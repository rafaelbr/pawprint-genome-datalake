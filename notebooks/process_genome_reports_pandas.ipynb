{
 "cells": [
  {
   "cell_type": "code",
   "execution_count": 1,
   "id": "initial_id",
   "metadata": {
    "collapsed": true,
    "ExecuteTime": {
     "end_time": "2024-01-19T11:28:40.613141962Z",
     "start_time": "2024-01-19T11:28:39.881931489Z"
    }
   },
   "outputs": [],
   "source": [
    "import awswrangler as wr\n",
    "import pandas as pd\n",
    "import boto3\n",
    "import json"
   ]
  },
  {
   "cell_type": "code",
   "execution_count": 60,
   "outputs": [],
   "source": [
    "boto3.setup_default_session(profile_name='pawprint')"
   ],
   "metadata": {
    "collapsed": false,
    "ExecuteTime": {
     "end_time": "2024-01-19T13:51:15.640292962Z",
     "start_time": "2024-01-19T13:51:15.583813027Z"
    }
   },
   "id": "76f9ca1bcd50d0f5"
  },
  {
   "cell_type": "code",
   "execution_count": 83,
   "outputs": [],
   "source": [
    "df = wr.s3.read_json('s3://pawprint-raw/processed/genome/dataset_report/date=2024-01-19/', lines=True)"
   ],
   "metadata": {
    "collapsed": false,
    "ExecuteTime": {
     "end_time": "2024-01-19T17:40:20.872115160Z",
     "start_time": "2024-01-19T17:40:18.363067477Z"
    }
   },
   "id": "546c693555b3b397"
  },
  {
   "cell_type": "code",
   "execution_count": 62,
   "outputs": [
    {
     "data": {
      "text/plain": "                                             reports\n0  [{'accession': 'GCA_963259705.1', 'current_acc...\n0  [{'accession': 'GCA_903992545.1', 'current_acc...\n0  [{'accession': 'GCA_028533765.1', 'current_acc...\n0  [{'accession': 'GCA_027574615.1', 'current_acc...\n0  [{'accession': 'GCA_963455305.1', 'current_acc...",
      "text/html": "<div>\n<style scoped>\n    .dataframe tbody tr th:only-of-type {\n        vertical-align: middle;\n    }\n\n    .dataframe tbody tr th {\n        vertical-align: top;\n    }\n\n    .dataframe thead th {\n        text-align: right;\n    }\n</style>\n<table border=\"1\" class=\"dataframe\">\n  <thead>\n    <tr style=\"text-align: right;\">\n      <th></th>\n      <th>reports</th>\n    </tr>\n  </thead>\n  <tbody>\n    <tr>\n      <th>0</th>\n      <td>[{'accession': 'GCA_963259705.1', 'current_acc...</td>\n    </tr>\n    <tr>\n      <th>0</th>\n      <td>[{'accession': 'GCA_903992545.1', 'current_acc...</td>\n    </tr>\n    <tr>\n      <th>0</th>\n      <td>[{'accession': 'GCA_028533765.1', 'current_acc...</td>\n    </tr>\n    <tr>\n      <th>0</th>\n      <td>[{'accession': 'GCA_027574615.1', 'current_acc...</td>\n    </tr>\n    <tr>\n      <th>0</th>\n      <td>[{'accession': 'GCA_963455305.1', 'current_acc...</td>\n    </tr>\n  </tbody>\n</table>\n</div>"
     },
     "execution_count": 62,
     "metadata": {},
     "output_type": "execute_result"
    }
   ],
   "source": [
    "df.head()"
   ],
   "metadata": {
    "collapsed": false,
    "ExecuteTime": {
     "end_time": "2024-01-19T13:51:22.207545210Z",
     "start_time": "2024-01-19T13:51:22.098542365Z"
    }
   },
   "id": "a5e221b5490a432a"
  },
  {
   "cell_type": "code",
   "execution_count": 84,
   "outputs": [],
   "source": [
    "final_list = []\n",
    "for i in df['reports']:\n",
    "    final_list.extend(i)"
   ],
   "metadata": {
    "collapsed": false,
    "ExecuteTime": {
     "end_time": "2024-01-19T17:40:23.172089693Z",
     "start_time": "2024-01-19T17:40:23.165850065Z"
    }
   },
   "id": "df2b1a44e3848932"
  },
  {
   "cell_type": "code",
   "execution_count": 64,
   "outputs": [
    {
     "data": {
      "text/plain": "{'accession': 'GCF_014108245.1',\n 'current_accession': 'GCF_014108245.1',\n 'paired_accession': 'GCA_014108245.1',\n 'source_database': 'SOURCE_DATABASE_REFSEQ',\n 'organism': {'tax_id': 59472,\n  'organism_name': 'Pipistrellus kuhlii',\n  'common_name': \"Kuhl's pipistrelle\",\n  'infraspecific_names': {'isolate': 'mPipKuh1',\n   'sex': 'male',\n   'breed': None,\n   'cultivar': None,\n   'ecotype': None,\n   'strain': None},\n  'sci_name': None,\n  'lineage': [],\n  'strain': None,\n  'pangolin_classification': None},\n 'assembly_info': {'assembly_level': 'Scaffold',\n  'assembly_status': 'current',\n  'paired_assembly': {'accession': 'GCA_014108245.1',\n   'status': 'current',\n   'annotation_name': 'Annotation submitted by Bat1K',\n   'only_genbank': 'chromosome MT',\n   'only_refseq': None,\n   'changed': None,\n   'manual_diff': None},\n  'assembly_name': 'mPipKuh1.p',\n  'assembly_type': 'haploid',\n  'bioproject_lineage': [{'bioprojects': [{'accession': 'PRJNA628567',\n      'title': 'Pipistrellus kuhlii Genome sequencing, assembly and annotation',\n      'parent_accessions': ['PRJNA489245', 'PRJNA674391'],\n      'parent_accession': None},\n     {'accession': 'PRJNA489245',\n      'title': 'Bat1K Project',\n      'parent_accessions': ['PRJNA533106'],\n      'parent_accession': None},\n     {'accession': 'PRJNA533106',\n      'title': 'Earth BioGenome Project (EBP)',\n      'parent_accession': None,\n      'parent_accessions': []},\n     {'accession': 'PRJNA674391',\n      'title': 'Pipistrellus kuhlii Genome sequencing, assembly and annotation',\n      'parent_accessions': ['PRJNA489243'],\n      'parent_accession': None},\n     {'accession': 'PRJNA489243',\n      'title': 'Vertebrate Genomes Project',\n      'parent_accessions': ['PRJNA533106'],\n      'parent_accession': None},\n     {'accession': 'PRJNA533106',\n      'title': 'Earth BioGenome Project (EBP)',\n      'parent_accession': None,\n      'parent_accessions': []}]}],\n  'bioproject_accession': 'PRJNA628567',\n  'release_date': '2020-08-07',\n  'submitter': 'Bat1K',\n  'refseq_category': 'representative genome',\n  'sequencing_tech': 'PacBio Sequel CLR; 10X Genomics chromium linked reads; Bionano Genomics; Phase Genomics HiC; PacBio Sequel IsoSeq',\n  'assembly_method': 'DAmar v. Apr 19; Bionano Solve DLS v. 3.3; Salsa2 HiC v. git commit: e3ae7d8; GenomicConsensus v. git commit: 038de5c; longranger align v. 2.2.0; Freebayes v. 1.2.0; HiGlass manual curation v. 1.5',\n  'biosample': {'accession': 'SAMN14734388',\n   'last_updated': '2020-05-09T19:10:15.320',\n   'publication_date': '2020-04-27T00:00:00.000',\n   'submission_date': '2020-04-27T03:21:05.003',\n   'sample_ids': [{'label': 'Sample name',\n     'value': \"Pipistrellus kuhlii (Kuhl's pipistrelle) for Bat1K reference genome\",\n     'db': None},\n    {'db': 'SRA', 'value': 'SRS6618859', 'label': None}],\n   'description': {'title': 'Model organism or animal sample from Pipistrellus kuhlii',\n    'organism': {'tax_id': 59472,\n     'organism_name': 'Pipistrellus kuhlii',\n     'sci_name': None,\n     'common_name': None,\n     'lineage': [],\n     'strain': None,\n     'pangolin_classification': None,\n     'infraspecific_names': {'breed': None,\n      'cultivar': None,\n      'ecotype': None,\n      'isolate': None,\n      'sex': None,\n      'strain': None}},\n    'comment': \"Kuhl's pipistrelle (Pipistrellus kuhlii) is a bat species in the family of Vespertilionidae and lives over large areas of North Africa, southern Europe and Western Asia. The sample was collected by Emma Teeling and Andrea Locatelli from University College Dublin. This sample is being used to generate chromosomal level reference assembly as part of the Bat1K Project.\"},\n   'owner': {'name': 'Max Planck Institute of Molecular Cell Biology and Genetics',\n    'contacts': [{'lab': None}]},\n   'models': ['Model organism or animal'],\n   'bioprojects': [{'accession': 'PRJNA628567',\n     'title': None,\n     'parent_accession': None,\n     'parent_accessions': []}],\n   'package': 'Model.organism.animal.1.0',\n   'attributes': [{'name': 'isolate', 'value': 'mPipKuh1'},\n    {'name': 'dev_stage', 'value': 'Adult'},\n    {'name': 'sex', 'value': 'male'},\n    {'name': 'tissue', 'value': 'flight muscle, heart, brain, liver, kidney'},\n    {'name': 'biomaterial_provider',\n     'value': 'Emma Teeling, University College Dublin, School of Biology and Environmental Science, Science Centre - West Belfield Dublin 4'},\n    {'name': 'birth_date', 'value': 'unknown'},\n    {'name': 'collected_by', 'value': 'Emma Teeling, Andrea Locatelli'},\n    {'name': 'collection_date', 'value': '2017'},\n    {'name': 'geo_loc_name', 'value': 'Italy: Bergamo'},\n    {'name': 'lat_lon', 'value': '45.7430 N 9.5831 E'},\n    {'name': 'store_cond', 'value': 'SNAP frozen'}],\n   'status': {'status': 'live', 'when': '2020-04-27T03:21:05.003'}},\n  'blast_url': 'https://blast.ncbi.nlm.nih.gov/Blast.cgi?PAGE_TYPE=BlastSearch&PROG_DEF=blastn&BLAST_SPEC=GDH_GCF_014108245.1',\n  'submission_date': None,\n  'description': None,\n  'synonym': None,\n  'linked_assembly': None,\n  'linked_assemblies': [],\n  'atypical': {'is_atypical': None, 'warnings': []},\n  'genome_notes': [],\n  'comments': None,\n  'suppression_reason': None,\n  'diploid_role': None},\n 'assembly_stats': {'total_sequence_length': '1775688541',\n  'total_ungapped_length': '1763487050',\n  'number_of_contigs': 596,\n  'contig_n50': 10591995,\n  'contig_l50': 43,\n  'number_of_scaffolds': 202,\n  'scaffold_n50': 80237350,\n  'scaffold_l50': 7,\n  'number_of_component_sequences': 202,\n  'gc_count': '750802682',\n  'gc_percent': 42.5,\n  'genome_coverage': '80.8x',\n  'total_number_of_chromosomes': None,\n  'gaps_between_scaffolds_count': None,\n  'number_of_organelles': None},\n 'annotation_info': {'name': 'NCBI Pipistrellus kuhlii Annotation Release 101',\n  'provider': 'NCBI RefSeq',\n  'release_date': '2021-12-14',\n  'report_url': 'https://www.ncbi.nlm.nih.gov/genome/annotation_euk/Pipistrellus_kuhlii/101',\n  'stats': {'gene_counts': {'total': 29173,\n    'protein_coding': 19329,\n    'non_coding': 5680,\n    'pseudogene': 4072,\n    'other': 92}},\n  'busco': {'busco_lineage': 'laurasiatheria_odb10',\n   'busco_ver': '4.1.4',\n   'complete': 0.9776034,\n   'single_copy': 0.9599477,\n   'duplicated': 0.017655713,\n   'fragmented': 0.0063756740000000004,\n   'missing': 0.016020926,\n   'total_count': '12234'},\n  'method': 'Best-placed RefSeq; Gnomon',\n  'pipeline': 'NCBI eukaryotic genome annotation pipeline',\n  'software_version': '9.0',\n  'status': 'Full annotation',\n  'release_version': None},\n 'wgs_info': {'wgs_project_accession': 'JACAGB01',\n  'master_wgs_url': 'https://www.ncbi.nlm.nih.gov/nuccore/JACAGB000000000.1',\n  'wgs_contigs_url': 'https://www.ncbi.nlm.nih.gov/Traces/wgs/JACAGB01'},\n 'organelle_info': [],\n 'type_material': {'type_label': None, 'type_display_text': None},\n 'checkm_info': {'checkm_marker_set': None,\n  'checkm_species_tax_id': None,\n  'checkm_marker_set_rank': None,\n  'checkm_version': None,\n  'completeness': None,\n  'contamination': None,\n  'completeness_percentile': None},\n 'average_nucleotide_identity': {'taxonomy_check_status': None,\n  'match_status': None,\n  'submitted_organism': None,\n  'submitted_species': None,\n  'category': None,\n  'submitted_ani_match': {'assembly': None,\n   'organism_name': None,\n   'category': None,\n   'ani': None,\n   'assembly_coverage': None,\n   'type_assembly_coverage': None},\n  'best_ani_match': {'assembly': None,\n   'organism_name': None,\n   'category': None,\n   'ani': None,\n   'assembly_coverage': None,\n   'type_assembly_coverage': None},\n  'comment': None}}"
     },
     "execution_count": 64,
     "metadata": {},
     "output_type": "execute_result"
    }
   ],
   "source": [
    "final_list[10]"
   ],
   "metadata": {
    "collapsed": false,
    "ExecuteTime": {
     "end_time": "2024-01-19T13:51:25.220346330Z",
     "start_time": "2024-01-19T13:51:25.203602125Z"
    }
   },
   "id": "ff4cb49d483fbb2f"
  },
  {
   "cell_type": "code",
   "execution_count": 85,
   "outputs": [],
   "source": [
    "df = pd.json_normalize(final_list)"
   ],
   "metadata": {
    "collapsed": false,
    "ExecuteTime": {
     "end_time": "2024-01-19T17:40:27.160972760Z",
     "start_time": "2024-01-19T17:40:27.148792765Z"
    }
   },
   "id": "77c5671682a8805d"
  },
  {
   "cell_type": "code",
   "execution_count": 66,
   "outputs": [
    {
     "data": {
      "text/plain": "         accession current_accession paired_accession  \\\n0  GCA_963259705.1   GCA_963259705.1  GCF_963259705.1   \n1  GCF_963259705.1   GCF_963259705.1  GCA_963259705.1   \n2  GCA_000327345.1   GCA_000327345.1  GCF_000327345.1   \n3  GCF_000327345.1   GCF_000327345.1  GCA_000327345.1   \n4  GCA_000412655.1   GCA_000412655.1  GCF_000412655.1   \n\n           source_database                                     organelle_info  \\\n0  SOURCE_DATABASE_GENBANK  [{'description': 'Mitochondrion', 'total_seq_l...   \n1   SOURCE_DATABASE_REFSEQ                                                 []   \n2  SOURCE_DATABASE_GENBANK                                                 []   \n3   SOURCE_DATABASE_REFSEQ                                                 []   \n4  SOURCE_DATABASE_GENBANK                                                 []   \n\n   organism.tax_id organism.organism_name organism.common_name  \\\n0            98922     Myotis daubentonii      Daubenton's bat   \n1            98922     Myotis daubentonii      Daubenton's bat   \n2           225400         Myotis davidii                 None   \n3           225400         Myotis davidii                 None   \n4           109478        Myotis brandtii         Brandt's bat   \n\n  organism.sci_name organism.lineage  ...  \\\n0              None               []  ...   \n1              None               []  ...   \n2              None               []  ...   \n3              None               []  ...   \n4              None               []  ...   \n\n  average_nucleotide_identity.submitted_ani_match.ani  \\\n0                                               None    \n1                                               None    \n2                                               None    \n3                                               None    \n4                                               None    \n\n  average_nucleotide_identity.submitted_ani_match.assembly_coverage  \\\n0                                               None                  \n1                                               None                  \n2                                               None                  \n3                                               None                  \n4                                               None                  \n\n  average_nucleotide_identity.submitted_ani_match.type_assembly_coverage  \\\n0                                               None                       \n1                                               None                       \n2                                               None                       \n3                                               None                       \n4                                               None                       \n\n  average_nucleotide_identity.best_ani_match.assembly  \\\n0                                               None    \n1                                               None    \n2                                               None    \n3                                               None    \n4                                               None    \n\n  average_nucleotide_identity.best_ani_match.organism_name  \\\n0                                               None         \n1                                               None         \n2                                               None         \n3                                               None         \n4                                               None         \n\n  average_nucleotide_identity.best_ani_match.category  \\\n0                                               None    \n1                                               None    \n2                                               None    \n3                                               None    \n4                                               None    \n\n  average_nucleotide_identity.best_ani_match.ani  \\\n0                                           None   \n1                                           None   \n2                                           None   \n3                                           None   \n4                                           None   \n\n  average_nucleotide_identity.best_ani_match.assembly_coverage  \\\n0                                               None             \n1                                               None             \n2                                               None             \n3                                               None             \n4                                               None             \n\n  average_nucleotide_identity.best_ani_match.type_assembly_coverage  \\\n0                                               None                  \n1                                               None                  \n2                                               None                  \n3                                               None                  \n4                                               None                  \n\n  average_nucleotide_identity.comment  \n0                                None  \n1                                None  \n2                                None  \n3                                None  \n4                                None  \n\n[5 rows x 143 columns]",
      "text/html": "<div>\n<style scoped>\n    .dataframe tbody tr th:only-of-type {\n        vertical-align: middle;\n    }\n\n    .dataframe tbody tr th {\n        vertical-align: top;\n    }\n\n    .dataframe thead th {\n        text-align: right;\n    }\n</style>\n<table border=\"1\" class=\"dataframe\">\n  <thead>\n    <tr style=\"text-align: right;\">\n      <th></th>\n      <th>accession</th>\n      <th>current_accession</th>\n      <th>paired_accession</th>\n      <th>source_database</th>\n      <th>organelle_info</th>\n      <th>organism.tax_id</th>\n      <th>organism.organism_name</th>\n      <th>organism.common_name</th>\n      <th>organism.sci_name</th>\n      <th>organism.lineage</th>\n      <th>...</th>\n      <th>average_nucleotide_identity.submitted_ani_match.ani</th>\n      <th>average_nucleotide_identity.submitted_ani_match.assembly_coverage</th>\n      <th>average_nucleotide_identity.submitted_ani_match.type_assembly_coverage</th>\n      <th>average_nucleotide_identity.best_ani_match.assembly</th>\n      <th>average_nucleotide_identity.best_ani_match.organism_name</th>\n      <th>average_nucleotide_identity.best_ani_match.category</th>\n      <th>average_nucleotide_identity.best_ani_match.ani</th>\n      <th>average_nucleotide_identity.best_ani_match.assembly_coverage</th>\n      <th>average_nucleotide_identity.best_ani_match.type_assembly_coverage</th>\n      <th>average_nucleotide_identity.comment</th>\n    </tr>\n  </thead>\n  <tbody>\n    <tr>\n      <th>0</th>\n      <td>GCA_963259705.1</td>\n      <td>GCA_963259705.1</td>\n      <td>GCF_963259705.1</td>\n      <td>SOURCE_DATABASE_GENBANK</td>\n      <td>[{'description': 'Mitochondrion', 'total_seq_l...</td>\n      <td>98922</td>\n      <td>Myotis daubentonii</td>\n      <td>Daubenton's bat</td>\n      <td>None</td>\n      <td>[]</td>\n      <td>...</td>\n      <td>None</td>\n      <td>None</td>\n      <td>None</td>\n      <td>None</td>\n      <td>None</td>\n      <td>None</td>\n      <td>None</td>\n      <td>None</td>\n      <td>None</td>\n      <td>None</td>\n    </tr>\n    <tr>\n      <th>1</th>\n      <td>GCF_963259705.1</td>\n      <td>GCF_963259705.1</td>\n      <td>GCA_963259705.1</td>\n      <td>SOURCE_DATABASE_REFSEQ</td>\n      <td>[]</td>\n      <td>98922</td>\n      <td>Myotis daubentonii</td>\n      <td>Daubenton's bat</td>\n      <td>None</td>\n      <td>[]</td>\n      <td>...</td>\n      <td>None</td>\n      <td>None</td>\n      <td>None</td>\n      <td>None</td>\n      <td>None</td>\n      <td>None</td>\n      <td>None</td>\n      <td>None</td>\n      <td>None</td>\n      <td>None</td>\n    </tr>\n    <tr>\n      <th>2</th>\n      <td>GCA_000327345.1</td>\n      <td>GCA_000327345.1</td>\n      <td>GCF_000327345.1</td>\n      <td>SOURCE_DATABASE_GENBANK</td>\n      <td>[]</td>\n      <td>225400</td>\n      <td>Myotis davidii</td>\n      <td>None</td>\n      <td>None</td>\n      <td>[]</td>\n      <td>...</td>\n      <td>None</td>\n      <td>None</td>\n      <td>None</td>\n      <td>None</td>\n      <td>None</td>\n      <td>None</td>\n      <td>None</td>\n      <td>None</td>\n      <td>None</td>\n      <td>None</td>\n    </tr>\n    <tr>\n      <th>3</th>\n      <td>GCF_000327345.1</td>\n      <td>GCF_000327345.1</td>\n      <td>GCA_000327345.1</td>\n      <td>SOURCE_DATABASE_REFSEQ</td>\n      <td>[]</td>\n      <td>225400</td>\n      <td>Myotis davidii</td>\n      <td>None</td>\n      <td>None</td>\n      <td>[]</td>\n      <td>...</td>\n      <td>None</td>\n      <td>None</td>\n      <td>None</td>\n      <td>None</td>\n      <td>None</td>\n      <td>None</td>\n      <td>None</td>\n      <td>None</td>\n      <td>None</td>\n      <td>None</td>\n    </tr>\n    <tr>\n      <th>4</th>\n      <td>GCA_000412655.1</td>\n      <td>GCA_000412655.1</td>\n      <td>GCF_000412655.1</td>\n      <td>SOURCE_DATABASE_GENBANK</td>\n      <td>[]</td>\n      <td>109478</td>\n      <td>Myotis brandtii</td>\n      <td>Brandt's bat</td>\n      <td>None</td>\n      <td>[]</td>\n      <td>...</td>\n      <td>None</td>\n      <td>None</td>\n      <td>None</td>\n      <td>None</td>\n      <td>None</td>\n      <td>None</td>\n      <td>None</td>\n      <td>None</td>\n      <td>None</td>\n      <td>None</td>\n    </tr>\n  </tbody>\n</table>\n<p>5 rows × 143 columns</p>\n</div>"
     },
     "execution_count": 66,
     "metadata": {},
     "output_type": "execute_result"
    }
   ],
   "source": [
    "df.head()"
   ],
   "metadata": {
    "collapsed": false,
    "ExecuteTime": {
     "end_time": "2024-01-19T13:51:27.842513384Z",
     "start_time": "2024-01-19T13:51:27.808254798Z"
    }
   },
   "id": "6876b76ed389705d"
  },
  {
   "cell_type": "code",
   "execution_count": 7,
   "outputs": [
    {
     "data": {
      "text/plain": "Empty DataFrame\nColumns: [accession, current_accession, paired_accession, source_database, organelle_info, organism.tax_id, organism.organism_name, organism.infraspecific_names.isolate, organism.infraspecific_names.sex, assembly_info.assembly_level, assembly_info.assembly_status, assembly_info.paired_assembly.accession, assembly_info.paired_assembly.status, assembly_info.paired_assembly.annotation_name, assembly_info.paired_assembly.changed, assembly_info.assembly_name, assembly_info.assembly_type, assembly_info.bioproject_lineage, assembly_info.bioproject_accession, assembly_info.release_date, assembly_info.submitter, assembly_info.sequencing_tech, assembly_info.assembly_method, assembly_info.biosample.accession, assembly_info.biosample.last_updated, assembly_info.biosample.publication_date, assembly_info.biosample.submission_date, assembly_info.biosample.sample_ids, assembly_info.biosample.description.title, assembly_info.biosample.description.organism.tax_id, assembly_info.biosample.description.organism.organism_name, assembly_info.biosample.description.comment, assembly_info.biosample.owner.name, assembly_info.biosample.owner.contacts, assembly_info.biosample.models, assembly_info.biosample.bioprojects, assembly_info.biosample.package, assembly_info.biosample.attributes, assembly_info.biosample.status.status, assembly_info.biosample.status.when, assembly_info.blast_url, assembly_stats.total_sequence_length, assembly_stats.total_ungapped_length, assembly_stats.number_of_contigs, assembly_stats.contig_n50, assembly_stats.contig_l50, assembly_stats.number_of_scaffolds, assembly_stats.scaffold_n50, assembly_stats.scaffold_l50, assembly_stats.number_of_component_sequences, assembly_stats.gc_count, assembly_stats.gc_percent, assembly_stats.genome_coverage, assembly_stats.number_of_organelles, annotation_info.name, annotation_info.provider, annotation_info.release_date, annotation_info.stats.gene_counts.total, annotation_info.stats.gene_counts.protein_coding, wgs_info.wgs_project_accession, wgs_info.master_wgs_url, wgs_info.wgs_contigs_url, assembly_info.refseq_category, annotation_info.report_url, annotation_info.stats.gene_counts.non_coding, annotation_info.stats.gene_counts.pseudogene, annotation_info.stats.gene_counts.other, annotation_info.busco.busco_lineage, annotation_info.busco.busco_ver, annotation_info.busco.complete, annotation_info.busco.single_copy, annotation_info.busco.duplicated, annotation_info.busco.fragmented, annotation_info.busco.missing, annotation_info.busco.total_count, annotation_info.method, annotation_info.pipeline, annotation_info.software_version, annotation_info.status, assembly_info.comments, organism.common_name, assembly_info.linked_assemblies, assembly_info.diploid_role, assembly_stats.total_number_of_chromosomes, assembly_info.paired_assembly.only_genbank, assembly_info.paired_assembly.only_refseq, assembly_info.genome_notes, assembly_info.suppression_reason, assembly_info.synonym, organism.infraspecific_names.breed]\nIndex: []\n\n[0 rows x 90 columns]",
      "text/html": "<div>\n<style scoped>\n    .dataframe tbody tr th:only-of-type {\n        vertical-align: middle;\n    }\n\n    .dataframe tbody tr th {\n        vertical-align: top;\n    }\n\n    .dataframe thead th {\n        text-align: right;\n    }\n</style>\n<table border=\"1\" class=\"dataframe\">\n  <thead>\n    <tr style=\"text-align: right;\">\n      <th></th>\n      <th>accession</th>\n      <th>current_accession</th>\n      <th>paired_accession</th>\n      <th>source_database</th>\n      <th>organelle_info</th>\n      <th>organism.tax_id</th>\n      <th>organism.organism_name</th>\n      <th>organism.infraspecific_names.isolate</th>\n      <th>organism.infraspecific_names.sex</th>\n      <th>assembly_info.assembly_level</th>\n      <th>...</th>\n      <th>organism.common_name</th>\n      <th>assembly_info.linked_assemblies</th>\n      <th>assembly_info.diploid_role</th>\n      <th>assembly_stats.total_number_of_chromosomes</th>\n      <th>assembly_info.paired_assembly.only_genbank</th>\n      <th>assembly_info.paired_assembly.only_refseq</th>\n      <th>assembly_info.genome_notes</th>\n      <th>assembly_info.suppression_reason</th>\n      <th>assembly_info.synonym</th>\n      <th>organism.infraspecific_names.breed</th>\n    </tr>\n  </thead>\n  <tbody>\n  </tbody>\n</table>\n<p>0 rows × 90 columns</p>\n</div>"
     },
     "execution_count": 7,
     "metadata": {},
     "output_type": "execute_result"
    }
   ],
   "source": [
    "df[df['organism.tax_id'] != df['assembly_info.biosample.description.organism.tax_id']].head()"
   ],
   "metadata": {
    "collapsed": false,
    "ExecuteTime": {
     "end_time": "2024-01-02T17:40:43.242132Z",
     "start_time": "2024-01-02T17:40:43.239470Z"
    }
   },
   "id": "50b983e53624fdb9"
  },
  {
   "cell_type": "code",
   "execution_count": 13,
   "outputs": [
    {
     "ename": "KeyError",
     "evalue": "'organism.pangolin_classification'",
     "output_type": "error",
     "traceback": [
      "\u001B[0;31m---------------------------------------------------------------------------\u001B[0m",
      "\u001B[0;31mKeyError\u001B[0m                                  Traceback (most recent call last)",
      "File \u001B[0;32m/Volumes/GeekFoxLab/Projetos/Pawprint/venv/lib/python3.9/site-packages/pandas/core/indexes/base.py:3790\u001B[0m, in \u001B[0;36mIndex.get_loc\u001B[0;34m(self, key)\u001B[0m\n\u001B[1;32m   3789\u001B[0m \u001B[38;5;28;01mtry\u001B[39;00m:\n\u001B[0;32m-> 3790\u001B[0m     \u001B[38;5;28;01mreturn\u001B[39;00m \u001B[38;5;28;43mself\u001B[39;49m\u001B[38;5;241;43m.\u001B[39;49m\u001B[43m_engine\u001B[49m\u001B[38;5;241;43m.\u001B[39;49m\u001B[43mget_loc\u001B[49m\u001B[43m(\u001B[49m\u001B[43mcasted_key\u001B[49m\u001B[43m)\u001B[49m\n\u001B[1;32m   3791\u001B[0m \u001B[38;5;28;01mexcept\u001B[39;00m \u001B[38;5;167;01mKeyError\u001B[39;00m \u001B[38;5;28;01mas\u001B[39;00m err:\n",
      "File \u001B[0;32mindex.pyx:152\u001B[0m, in \u001B[0;36mpandas._libs.index.IndexEngine.get_loc\u001B[0;34m()\u001B[0m\n",
      "File \u001B[0;32mindex.pyx:181\u001B[0m, in \u001B[0;36mpandas._libs.index.IndexEngine.get_loc\u001B[0;34m()\u001B[0m\n",
      "File \u001B[0;32mpandas/_libs/hashtable_class_helper.pxi:7080\u001B[0m, in \u001B[0;36mpandas._libs.hashtable.PyObjectHashTable.get_item\u001B[0;34m()\u001B[0m\n",
      "File \u001B[0;32mpandas/_libs/hashtable_class_helper.pxi:7088\u001B[0m, in \u001B[0;36mpandas._libs.hashtable.PyObjectHashTable.get_item\u001B[0;34m()\u001B[0m\n",
      "\u001B[0;31mKeyError\u001B[0m: 'organism.pangolin_classification'",
      "\nThe above exception was the direct cause of the following exception:\n",
      "\u001B[0;31mKeyError\u001B[0m                                  Traceback (most recent call last)",
      "Cell \u001B[0;32mIn[13], line 1\u001B[0m\n\u001B[0;32m----> 1\u001B[0m \u001B[43mdf\u001B[49m\u001B[43m[\u001B[49m\u001B[38;5;124;43m'\u001B[39;49m\u001B[38;5;124;43morganism.pangolin_classification\u001B[39;49m\u001B[38;5;124;43m'\u001B[39;49m\u001B[43m]\u001B[49m\u001B[38;5;241m.\u001B[39msample(\u001B[38;5;241m10\u001B[39m)\n",
      "File \u001B[0;32m/Volumes/GeekFoxLab/Projetos/Pawprint/venv/lib/python3.9/site-packages/pandas/core/frame.py:3893\u001B[0m, in \u001B[0;36mDataFrame.__getitem__\u001B[0;34m(self, key)\u001B[0m\n\u001B[1;32m   3891\u001B[0m \u001B[38;5;28;01mif\u001B[39;00m \u001B[38;5;28mself\u001B[39m\u001B[38;5;241m.\u001B[39mcolumns\u001B[38;5;241m.\u001B[39mnlevels \u001B[38;5;241m>\u001B[39m \u001B[38;5;241m1\u001B[39m:\n\u001B[1;32m   3892\u001B[0m     \u001B[38;5;28;01mreturn\u001B[39;00m \u001B[38;5;28mself\u001B[39m\u001B[38;5;241m.\u001B[39m_getitem_multilevel(key)\n\u001B[0;32m-> 3893\u001B[0m indexer \u001B[38;5;241m=\u001B[39m \u001B[38;5;28;43mself\u001B[39;49m\u001B[38;5;241;43m.\u001B[39;49m\u001B[43mcolumns\u001B[49m\u001B[38;5;241;43m.\u001B[39;49m\u001B[43mget_loc\u001B[49m\u001B[43m(\u001B[49m\u001B[43mkey\u001B[49m\u001B[43m)\u001B[49m\n\u001B[1;32m   3894\u001B[0m \u001B[38;5;28;01mif\u001B[39;00m is_integer(indexer):\n\u001B[1;32m   3895\u001B[0m     indexer \u001B[38;5;241m=\u001B[39m [indexer]\n",
      "File \u001B[0;32m/Volumes/GeekFoxLab/Projetos/Pawprint/venv/lib/python3.9/site-packages/pandas/core/indexes/base.py:3797\u001B[0m, in \u001B[0;36mIndex.get_loc\u001B[0;34m(self, key)\u001B[0m\n\u001B[1;32m   3792\u001B[0m     \u001B[38;5;28;01mif\u001B[39;00m \u001B[38;5;28misinstance\u001B[39m(casted_key, \u001B[38;5;28mslice\u001B[39m) \u001B[38;5;129;01mor\u001B[39;00m (\n\u001B[1;32m   3793\u001B[0m         \u001B[38;5;28misinstance\u001B[39m(casted_key, abc\u001B[38;5;241m.\u001B[39mIterable)\n\u001B[1;32m   3794\u001B[0m         \u001B[38;5;129;01mand\u001B[39;00m \u001B[38;5;28many\u001B[39m(\u001B[38;5;28misinstance\u001B[39m(x, \u001B[38;5;28mslice\u001B[39m) \u001B[38;5;28;01mfor\u001B[39;00m x \u001B[38;5;129;01min\u001B[39;00m casted_key)\n\u001B[1;32m   3795\u001B[0m     ):\n\u001B[1;32m   3796\u001B[0m         \u001B[38;5;28;01mraise\u001B[39;00m InvalidIndexError(key)\n\u001B[0;32m-> 3797\u001B[0m     \u001B[38;5;28;01mraise\u001B[39;00m \u001B[38;5;167;01mKeyError\u001B[39;00m(key) \u001B[38;5;28;01mfrom\u001B[39;00m \u001B[38;5;21;01merr\u001B[39;00m\n\u001B[1;32m   3798\u001B[0m \u001B[38;5;28;01mexcept\u001B[39;00m \u001B[38;5;167;01mTypeError\u001B[39;00m:\n\u001B[1;32m   3799\u001B[0m     \u001B[38;5;66;03m# If we have a listlike key, _check_indexing_error will raise\u001B[39;00m\n\u001B[1;32m   3800\u001B[0m     \u001B[38;5;66;03m#  InvalidIndexError. Otherwise we fall through and re-raise\u001B[39;00m\n\u001B[1;32m   3801\u001B[0m     \u001B[38;5;66;03m#  the TypeError.\u001B[39;00m\n\u001B[1;32m   3802\u001B[0m     \u001B[38;5;28mself\u001B[39m\u001B[38;5;241m.\u001B[39m_check_indexing_error(key)\n",
      "\u001B[0;31mKeyError\u001B[0m: 'organism.pangolin_classification'"
     ]
    }
   ],
   "source": [
    "df['organism.pangolin_classification'].sample(10)"
   ],
   "metadata": {
    "collapsed": false,
    "ExecuteTime": {
     "end_time": "2024-01-02T20:12:11.013599Z",
     "start_time": "2024-01-02T20:12:10.981294Z"
    }
   },
   "id": "9dfe4d18ea2ef019"
  },
  {
   "cell_type": "code",
   "execution_count": 11,
   "outputs": [
    {
     "data": {
      "text/plain": "Index(['accession', 'current_accession', 'paired_accession', 'source_database',\n       'organelle_info', 'organism.tax_id', 'organism.organism_name',\n       'organism.common_name', 'organism.sci_name', 'organism.lineage',\n       ...\n       'average_nucleotide_identity.submitted_ani_match.ani',\n       'average_nucleotide_identity.submitted_ani_match.assembly_coverage',\n       'average_nucleotide_identity.submitted_ani_match.type_assembly_coverage',\n       'average_nucleotide_identity.best_ani_match.assembly',\n       'average_nucleotide_identity.best_ani_match.organism_name',\n       'average_nucleotide_identity.best_ani_match.category',\n       'average_nucleotide_identity.best_ani_match.ani',\n       'average_nucleotide_identity.best_ani_match.assembly_coverage',\n       'average_nucleotide_identity.best_ani_match.type_assembly_coverage',\n       'average_nucleotide_identity.comment'],\n      dtype='object', length=143)"
     },
     "execution_count": 11,
     "metadata": {},
     "output_type": "execute_result"
    }
   ],
   "source": [
    "df.columns"
   ],
   "metadata": {
    "collapsed": false,
    "ExecuteTime": {
     "end_time": "2024-01-19T11:30:30.138508251Z",
     "start_time": "2024-01-19T11:30:30.063674503Z"
    }
   },
   "id": "7215203c52dd3322"
  },
  {
   "cell_type": "markdown",
   "source": [
    "# Organelle info\n"
   ],
   "metadata": {
    "collapsed": false
   },
   "id": "1f83d76a251eab8"
  },
  {
   "cell_type": "code",
   "execution_count": 86,
   "outputs": [],
   "source": [
    "org_df = pd.json_normalize(final_list, 'organelle_info', ['accession'])"
   ],
   "metadata": {
    "collapsed": false,
    "ExecuteTime": {
     "end_time": "2024-01-19T17:40:33.045988500Z",
     "start_time": "2024-01-19T17:40:33.037203020Z"
    }
   },
   "id": "e083accb420ddc8c"
  },
  {
   "cell_type": "code",
   "execution_count": 87,
   "outputs": [
    {
     "data": {
      "text/plain": "      description total_seq_length                             submitter  \\\n0   Mitochondrion            17343             WELLCOME SANGER INSTITUTE   \n1   Mitochondrion            16925                                    SC   \n2   Mitochondrion            17184             WELLCOME SANGER INSTITUTE   \n3   Mitochondrion            17189                                 Bat1K   \n4   Mitochondrion            16645                                 Bat1K   \n5   Mitochondrion            16739                                   BGI   \n6   Mitochondrion            16706  Boston University School of Medicine   \n7   Mitochondrion            17030                                 Bat1K   \n8   Mitochondrion            16546                                 Bat1K   \n9   Mitochondrion            17039             WELLCOME SANGER INSTITUTE   \n10  Mitochondrion            16447                                  UCLA   \n11  Mitochondrion            16913             WELLCOME SANGER INSTITUTE   \n12  Mitochondrion            17320                                 Bat1K   \n13  Mitochondrion            17213                                 Bat1K   \n14  Mitochondrion            17366                                  UCLA   \n\n   assembly_name infraspecific_name bioproject        accession  \n0           None               None         []  GCA_963259705.1  \n1           None               None         []  GCA_903992545.1  \n2           None               None         []  GCA_949987585.1  \n3           None               None         []  GCA_014108245.1  \n4           None               None         []  GCA_014176215.1  \n5           None               None         []  GCF_000325575.1  \n6           None               None         []  GCF_001466805.2  \n7           None               None         []  GCA_027574615.1  \n8           None               None         []  GCA_027563665.1  \n9           None               None         []  GCA_951640355.1  \n10          None               None         []  GCA_026230055.1  \n11          None               None         []  GCA_963455305.1  \n12          None               None         []  GCA_014108235.1  \n13          None               None         []  GCF_014108235.1  \n14          None               None         []  GCA_028538775.1  ",
      "text/html": "<div>\n<style scoped>\n    .dataframe tbody tr th:only-of-type {\n        vertical-align: middle;\n    }\n\n    .dataframe tbody tr th {\n        vertical-align: top;\n    }\n\n    .dataframe thead th {\n        text-align: right;\n    }\n</style>\n<table border=\"1\" class=\"dataframe\">\n  <thead>\n    <tr style=\"text-align: right;\">\n      <th></th>\n      <th>description</th>\n      <th>total_seq_length</th>\n      <th>submitter</th>\n      <th>assembly_name</th>\n      <th>infraspecific_name</th>\n      <th>bioproject</th>\n      <th>accession</th>\n    </tr>\n  </thead>\n  <tbody>\n    <tr>\n      <th>0</th>\n      <td>Mitochondrion</td>\n      <td>17343</td>\n      <td>WELLCOME SANGER INSTITUTE</td>\n      <td>None</td>\n      <td>None</td>\n      <td>[]</td>\n      <td>GCA_963259705.1</td>\n    </tr>\n    <tr>\n      <th>1</th>\n      <td>Mitochondrion</td>\n      <td>16925</td>\n      <td>SC</td>\n      <td>None</td>\n      <td>None</td>\n      <td>[]</td>\n      <td>GCA_903992545.1</td>\n    </tr>\n    <tr>\n      <th>2</th>\n      <td>Mitochondrion</td>\n      <td>17184</td>\n      <td>WELLCOME SANGER INSTITUTE</td>\n      <td>None</td>\n      <td>None</td>\n      <td>[]</td>\n      <td>GCA_949987585.1</td>\n    </tr>\n    <tr>\n      <th>3</th>\n      <td>Mitochondrion</td>\n      <td>17189</td>\n      <td>Bat1K</td>\n      <td>None</td>\n      <td>None</td>\n      <td>[]</td>\n      <td>GCA_014108245.1</td>\n    </tr>\n    <tr>\n      <th>4</th>\n      <td>Mitochondrion</td>\n      <td>16645</td>\n      <td>Bat1K</td>\n      <td>None</td>\n      <td>None</td>\n      <td>[]</td>\n      <td>GCA_014176215.1</td>\n    </tr>\n    <tr>\n      <th>5</th>\n      <td>Mitochondrion</td>\n      <td>16739</td>\n      <td>BGI</td>\n      <td>None</td>\n      <td>None</td>\n      <td>[]</td>\n      <td>GCF_000325575.1</td>\n    </tr>\n    <tr>\n      <th>6</th>\n      <td>Mitochondrion</td>\n      <td>16706</td>\n      <td>Boston University School of Medicine</td>\n      <td>None</td>\n      <td>None</td>\n      <td>[]</td>\n      <td>GCF_001466805.2</td>\n    </tr>\n    <tr>\n      <th>7</th>\n      <td>Mitochondrion</td>\n      <td>17030</td>\n      <td>Bat1K</td>\n      <td>None</td>\n      <td>None</td>\n      <td>[]</td>\n      <td>GCA_027574615.1</td>\n    </tr>\n    <tr>\n      <th>8</th>\n      <td>Mitochondrion</td>\n      <td>16546</td>\n      <td>Bat1K</td>\n      <td>None</td>\n      <td>None</td>\n      <td>[]</td>\n      <td>GCA_027563665.1</td>\n    </tr>\n    <tr>\n      <th>9</th>\n      <td>Mitochondrion</td>\n      <td>17039</td>\n      <td>WELLCOME SANGER INSTITUTE</td>\n      <td>None</td>\n      <td>None</td>\n      <td>[]</td>\n      <td>GCA_951640355.1</td>\n    </tr>\n    <tr>\n      <th>10</th>\n      <td>Mitochondrion</td>\n      <td>16447</td>\n      <td>UCLA</td>\n      <td>None</td>\n      <td>None</td>\n      <td>[]</td>\n      <td>GCA_026230055.1</td>\n    </tr>\n    <tr>\n      <th>11</th>\n      <td>Mitochondrion</td>\n      <td>16913</td>\n      <td>WELLCOME SANGER INSTITUTE</td>\n      <td>None</td>\n      <td>None</td>\n      <td>[]</td>\n      <td>GCA_963455305.1</td>\n    </tr>\n    <tr>\n      <th>12</th>\n      <td>Mitochondrion</td>\n      <td>17320</td>\n      <td>Bat1K</td>\n      <td>None</td>\n      <td>None</td>\n      <td>[]</td>\n      <td>GCA_014108235.1</td>\n    </tr>\n    <tr>\n      <th>13</th>\n      <td>Mitochondrion</td>\n      <td>17213</td>\n      <td>Bat1K</td>\n      <td>None</td>\n      <td>None</td>\n      <td>[]</td>\n      <td>GCF_014108235.1</td>\n    </tr>\n    <tr>\n      <th>14</th>\n      <td>Mitochondrion</td>\n      <td>17366</td>\n      <td>UCLA</td>\n      <td>None</td>\n      <td>None</td>\n      <td>[]</td>\n      <td>GCA_028538775.1</td>\n    </tr>\n  </tbody>\n</table>\n</div>"
     },
     "execution_count": 87,
     "metadata": {},
     "output_type": "execute_result"
    }
   ],
   "source": [
    "org_df.head(100)"
   ],
   "metadata": {
    "collapsed": false,
    "ExecuteTime": {
     "end_time": "2024-01-19T17:40:33.849133699Z",
     "start_time": "2024-01-19T17:40:33.811632256Z"
    }
   },
   "id": "daed111497eae9ba"
  },
  {
   "cell_type": "code",
   "execution_count": 69,
   "outputs": [
    {
     "data": {
      "text/plain": "         accession current_accession paired_accession  \\\n0  GCA_963259705.1   GCA_963259705.1  GCF_963259705.1   \n1  GCF_963259705.1   GCF_963259705.1  GCA_963259705.1   \n2  GCA_000327345.1   GCA_000327345.1  GCF_000327345.1   \n3  GCF_000327345.1   GCF_000327345.1  GCA_000327345.1   \n4  GCA_000412655.1   GCA_000412655.1  GCF_000412655.1   \n\n           source_database  organism.tax_id organism.organism_name  \\\n0  SOURCE_DATABASE_GENBANK            98922     Myotis daubentonii   \n1   SOURCE_DATABASE_REFSEQ            98922     Myotis daubentonii   \n2  SOURCE_DATABASE_GENBANK           225400         Myotis davidii   \n3   SOURCE_DATABASE_REFSEQ           225400         Myotis davidii   \n4  SOURCE_DATABASE_GENBANK           109478        Myotis brandtii   \n\n  assembly_info.assembly_level assembly_info.assembly_status  \\\n0                   Chromosome                       current   \n1                   Chromosome                       current   \n2                     Scaffold                       current   \n3                     Scaffold                       current   \n4                     Scaffold                       current   \n\n  assembly_info.paired_assembly.accession  \\\n0                         GCF_963259705.1   \n1                         GCA_963259705.1   \n2                         GCF_000327345.1   \n3                         GCA_000327345.1   \n4                         GCF_000412655.1   \n\n  assembly_info.paired_assembly.status  ...  \\\n0                              current  ...   \n1                              current  ...   \n2                              current  ...   \n3                              current  ...   \n4                              current  ...   \n\n  average_nucleotide_identity.submitted_ani_match.ani  \\\n0                                               None    \n1                                               None    \n2                                               None    \n3                                               None    \n4                                               None    \n\n  average_nucleotide_identity.submitted_ani_match.assembly_coverage  \\\n0                                               None                  \n1                                               None                  \n2                                               None                  \n3                                               None                  \n4                                               None                  \n\n  average_nucleotide_identity.submitted_ani_match.type_assembly_coverage  \\\n0                                               None                       \n1                                               None                       \n2                                               None                       \n3                                               None                       \n4                                               None                       \n\n  average_nucleotide_identity.best_ani_match.assembly  \\\n0                                               None    \n1                                               None    \n2                                               None    \n3                                               None    \n4                                               None    \n\n  average_nucleotide_identity.best_ani_match.organism_name  \\\n0                                               None         \n1                                               None         \n2                                               None         \n3                                               None         \n4                                               None         \n\n  average_nucleotide_identity.best_ani_match.category  \\\n0                                               None    \n1                                               None    \n2                                               None    \n3                                               None    \n4                                               None    \n\n  average_nucleotide_identity.best_ani_match.ani  \\\n0                                           None   \n1                                           None   \n2                                           None   \n3                                           None   \n4                                           None   \n\n  average_nucleotide_identity.best_ani_match.assembly_coverage  \\\n0                                               None             \n1                                               None             \n2                                               None             \n3                                               None             \n4                                               None             \n\n  average_nucleotide_identity.best_ani_match.type_assembly_coverage  \\\n0                                               None                  \n1                                               None                  \n2                                               None                  \n3                                               None                  \n4                                               None                  \n\n  average_nucleotide_identity.comment  \n0                                None  \n1                                None  \n2                                None  \n3                                None  \n4                                None  \n\n[5 rows x 106 columns]",
      "text/html": "<div>\n<style scoped>\n    .dataframe tbody tr th:only-of-type {\n        vertical-align: middle;\n    }\n\n    .dataframe tbody tr th {\n        vertical-align: top;\n    }\n\n    .dataframe thead th {\n        text-align: right;\n    }\n</style>\n<table border=\"1\" class=\"dataframe\">\n  <thead>\n    <tr style=\"text-align: right;\">\n      <th></th>\n      <th>accession</th>\n      <th>current_accession</th>\n      <th>paired_accession</th>\n      <th>source_database</th>\n      <th>organism.tax_id</th>\n      <th>organism.organism_name</th>\n      <th>assembly_info.assembly_level</th>\n      <th>assembly_info.assembly_status</th>\n      <th>assembly_info.paired_assembly.accession</th>\n      <th>assembly_info.paired_assembly.status</th>\n      <th>...</th>\n      <th>average_nucleotide_identity.submitted_ani_match.ani</th>\n      <th>average_nucleotide_identity.submitted_ani_match.assembly_coverage</th>\n      <th>average_nucleotide_identity.submitted_ani_match.type_assembly_coverage</th>\n      <th>average_nucleotide_identity.best_ani_match.assembly</th>\n      <th>average_nucleotide_identity.best_ani_match.organism_name</th>\n      <th>average_nucleotide_identity.best_ani_match.category</th>\n      <th>average_nucleotide_identity.best_ani_match.ani</th>\n      <th>average_nucleotide_identity.best_ani_match.assembly_coverage</th>\n      <th>average_nucleotide_identity.best_ani_match.type_assembly_coverage</th>\n      <th>average_nucleotide_identity.comment</th>\n    </tr>\n  </thead>\n  <tbody>\n    <tr>\n      <th>0</th>\n      <td>GCA_963259705.1</td>\n      <td>GCA_963259705.1</td>\n      <td>GCF_963259705.1</td>\n      <td>SOURCE_DATABASE_GENBANK</td>\n      <td>98922</td>\n      <td>Myotis daubentonii</td>\n      <td>Chromosome</td>\n      <td>current</td>\n      <td>GCF_963259705.1</td>\n      <td>current</td>\n      <td>...</td>\n      <td>None</td>\n      <td>None</td>\n      <td>None</td>\n      <td>None</td>\n      <td>None</td>\n      <td>None</td>\n      <td>None</td>\n      <td>None</td>\n      <td>None</td>\n      <td>None</td>\n    </tr>\n    <tr>\n      <th>1</th>\n      <td>GCF_963259705.1</td>\n      <td>GCF_963259705.1</td>\n      <td>GCA_963259705.1</td>\n      <td>SOURCE_DATABASE_REFSEQ</td>\n      <td>98922</td>\n      <td>Myotis daubentonii</td>\n      <td>Chromosome</td>\n      <td>current</td>\n      <td>GCA_963259705.1</td>\n      <td>current</td>\n      <td>...</td>\n      <td>None</td>\n      <td>None</td>\n      <td>None</td>\n      <td>None</td>\n      <td>None</td>\n      <td>None</td>\n      <td>None</td>\n      <td>None</td>\n      <td>None</td>\n      <td>None</td>\n    </tr>\n    <tr>\n      <th>2</th>\n      <td>GCA_000327345.1</td>\n      <td>GCA_000327345.1</td>\n      <td>GCF_000327345.1</td>\n      <td>SOURCE_DATABASE_GENBANK</td>\n      <td>225400</td>\n      <td>Myotis davidii</td>\n      <td>Scaffold</td>\n      <td>current</td>\n      <td>GCF_000327345.1</td>\n      <td>current</td>\n      <td>...</td>\n      <td>None</td>\n      <td>None</td>\n      <td>None</td>\n      <td>None</td>\n      <td>None</td>\n      <td>None</td>\n      <td>None</td>\n      <td>None</td>\n      <td>None</td>\n      <td>None</td>\n    </tr>\n    <tr>\n      <th>3</th>\n      <td>GCF_000327345.1</td>\n      <td>GCF_000327345.1</td>\n      <td>GCA_000327345.1</td>\n      <td>SOURCE_DATABASE_REFSEQ</td>\n      <td>225400</td>\n      <td>Myotis davidii</td>\n      <td>Scaffold</td>\n      <td>current</td>\n      <td>GCA_000327345.1</td>\n      <td>current</td>\n      <td>...</td>\n      <td>None</td>\n      <td>None</td>\n      <td>None</td>\n      <td>None</td>\n      <td>None</td>\n      <td>None</td>\n      <td>None</td>\n      <td>None</td>\n      <td>None</td>\n      <td>None</td>\n    </tr>\n    <tr>\n      <th>4</th>\n      <td>GCA_000412655.1</td>\n      <td>GCA_000412655.1</td>\n      <td>GCF_000412655.1</td>\n      <td>SOURCE_DATABASE_GENBANK</td>\n      <td>109478</td>\n      <td>Myotis brandtii</td>\n      <td>Scaffold</td>\n      <td>current</td>\n      <td>GCF_000412655.1</td>\n      <td>current</td>\n      <td>...</td>\n      <td>None</td>\n      <td>None</td>\n      <td>None</td>\n      <td>None</td>\n      <td>None</td>\n      <td>None</td>\n      <td>None</td>\n      <td>None</td>\n      <td>None</td>\n      <td>None</td>\n    </tr>\n  </tbody>\n</table>\n<p>5 rows × 106 columns</p>\n</div>"
     },
     "execution_count": 69,
     "metadata": {},
     "output_type": "execute_result"
    }
   ],
   "source": [
    "with open('../config/utils/dataset_report_columns.json', 'r') as f:\n",
    "    interest_columns = json.load(f)\n",
    "    \n",
    "\n",
    "test_df = df[interest_columns]\n",
    "test_df.head()"
   ],
   "metadata": {
    "collapsed": false,
    "ExecuteTime": {
     "end_time": "2024-01-19T13:51:46.416422560Z",
     "start_time": "2024-01-19T13:51:46.376665720Z"
    }
   },
   "id": "e8f370447f980bfa"
  },
  {
   "cell_type": "code",
   "execution_count": 70,
   "outputs": [],
   "source": [
    "from pyspark import SparkContext\n",
    "from pyspark.sql import SparkSession"
   ],
   "metadata": {
    "collapsed": false,
    "ExecuteTime": {
     "end_time": "2024-01-19T17:19:41.947822197Z",
     "start_time": "2024-01-19T17:19:41.886002614Z"
    }
   },
   "id": "673818cbcdbf6803"
  },
  {
   "cell_type": "code",
   "execution_count": 71,
   "outputs": [
    {
     "name": "stderr",
     "output_type": "stream",
     "text": [
      "24/01/19 14:20:06 WARN Utils: Your hostname, geekfox-nb resolves to a loopback address: 127.0.1.1; using 10.0.0.108 instead (on interface wlp2s0)\n",
      "24/01/19 14:20:07 WARN Utils: Set SPARK_LOCAL_IP if you need to bind to another address\n",
      "Setting default log level to \"WARN\".\n",
      "To adjust logging level use sc.setLogLevel(newLevel). For SparkR, use setLogLevel(newLevel).\n",
      "24/01/19 14:20:07 WARN NativeCodeLoader: Unable to load native-hadoop library for your platform... using builtin-java classes where applicable\n",
      "24/01/19 14:20:08 WARN Utils: Service 'SparkUI' could not bind on port 4040. Attempting port 4041.\n",
      "24/01/19 14:20:08 WARN Utils: Service 'SparkUI' could not bind on port 4041. Attempting port 4042.\n"
     ]
    }
   ],
   "source": [
    "sc = SparkContext()\n",
    "spark = SparkSession(sc)"
   ],
   "metadata": {
    "collapsed": false,
    "ExecuteTime": {
     "end_time": "2024-01-19T17:20:09.028388212Z",
     "start_time": "2024-01-19T17:20:05.266238039Z"
    }
   },
   "id": "647aa948cd3c911"
  },
  {
   "cell_type": "code",
   "execution_count": 81,
   "outputs": [
    {
     "data": {
      "text/plain": "accession                                                            object\ncurrent_accession                                                    object\npaired_accession                                                     object\nsource_database                                                      object\norganism.tax_id                                                      object\n                                                                      ...  \naverage_nucleotide_identity.best_ani_match.category                  object\naverage_nucleotide_identity.best_ani_match.ani                       object\naverage_nucleotide_identity.best_ani_match.assembly_coverage         object\naverage_nucleotide_identity.best_ani_match.type_assembly_coverage    object\naverage_nucleotide_identity.comment                                  object\nLength: 106, dtype: object"
     },
     "execution_count": 81,
     "metadata": {},
     "output_type": "execute_result"
    }
   ],
   "source": [
    "test_df = test_df.astype(str)\n",
    "test_df.dtypes"
   ],
   "metadata": {
    "collapsed": false,
    "ExecuteTime": {
     "end_time": "2024-01-19T17:24:31.359260826Z",
     "start_time": "2024-01-19T17:24:31.298252927Z"
    }
   },
   "id": "d260185fc5973a85"
  },
  {
   "cell_type": "code",
   "execution_count": 82,
   "outputs": [],
   "source": [
    "reports_df = spark.createDataFrame(test_df)"
   ],
   "metadata": {
    "collapsed": false,
    "ExecuteTime": {
     "end_time": "2024-01-19T17:24:34.001120528Z",
     "start_time": "2024-01-19T17:24:32.936800897Z"
    }
   },
   "id": "e1224dcead5f02c9"
  },
  {
   "cell_type": "code",
   "execution_count": 89,
   "outputs": [],
   "source": [
    "org_df = org_df.astype(str)\n",
    "organele_df = spark.createDataFrame(org_df)"
   ],
   "metadata": {
    "collapsed": false,
    "ExecuteTime": {
     "end_time": "2024-01-19T17:43:00.339436706Z",
     "start_time": "2024-01-19T17:43:00.271612257Z"
    }
   },
   "id": "7c3aa442251e9d06"
  },
  {
   "cell_type": "code",
   "execution_count": 90,
   "outputs": [
    {
     "name": "stderr",
     "output_type": "stream",
     "text": [
      "                                                                                \r"
     ]
    },
    {
     "name": "stdout",
     "output_type": "stream",
     "text": [
      "+-------------+----------------+--------------------+-------------+------------------+----------+---------------+\n",
      "|  description|total_seq_length|           submitter|assembly_name|infraspecific_name|bioproject|      accession|\n",
      "+-------------+----------------+--------------------+-------------+------------------+----------+---------------+\n",
      "|Mitochondrion|           17343|WELLCOME SANGER I...|         None|              None|        []|GCA_963259705.1|\n",
      "|Mitochondrion|           16925|                  SC|         None|              None|        []|GCA_903992545.1|\n",
      "|Mitochondrion|           17184|WELLCOME SANGER I...|         None|              None|        []|GCA_949987585.1|\n",
      "|Mitochondrion|           17189|               Bat1K|         None|              None|        []|GCA_014108245.1|\n",
      "|Mitochondrion|           16645|               Bat1K|         None|              None|        []|GCA_014176215.1|\n",
      "|Mitochondrion|           16739|                 BGI|         None|              None|        []|GCF_000325575.1|\n",
      "|Mitochondrion|           16706|Boston University...|         None|              None|        []|GCF_001466805.2|\n",
      "|Mitochondrion|           17030|               Bat1K|         None|              None|        []|GCA_027574615.1|\n",
      "|Mitochondrion|           16546|               Bat1K|         None|              None|        []|GCA_027563665.1|\n",
      "|Mitochondrion|           17039|WELLCOME SANGER I...|         None|              None|        []|GCA_951640355.1|\n",
      "|Mitochondrion|           16447|                UCLA|         None|              None|        []|GCA_026230055.1|\n",
      "|Mitochondrion|           16913|WELLCOME SANGER I...|         None|              None|        []|GCA_963455305.1|\n",
      "|Mitochondrion|           17320|               Bat1K|         None|              None|        []|GCA_014108235.1|\n",
      "|Mitochondrion|           17213|               Bat1K|         None|              None|        []|GCF_014108235.1|\n",
      "|Mitochondrion|           17366|                UCLA|         None|              None|        []|GCA_028538775.1|\n",
      "+-------------+----------------+--------------------+-------------+------------------+----------+---------------+\n"
     ]
    }
   ],
   "source": [
    "organele_df.show()"
   ],
   "metadata": {
    "collapsed": false,
    "ExecuteTime": {
     "end_time": "2024-01-19T17:43:12.901118268Z",
     "start_time": "2024-01-19T17:43:08.996476523Z"
    }
   },
   "id": "6ca6a29195ddb38"
  },
  {
   "cell_type": "code",
   "execution_count": 95,
   "outputs": [
    {
     "data": {
      "text/plain": "'s3://geekfox-pawprint-raw/processed/genome/dataset_report/date=2024-01-19/'"
     },
     "execution_count": 95,
     "metadata": {},
     "output_type": "execute_result"
    }
   ],
   "source": [
    "string = 's3://geekfox-pawprint-raw/processed/genome/dataset_report/date=2024-01-19/dataset_1.json'\n",
    "'/'.join(string.split('/')[:-1])+'/'"
   ],
   "metadata": {
    "collapsed": false,
    "ExecuteTime": {
     "end_time": "2024-01-19T17:57:25.368082307Z",
     "start_time": "2024-01-19T17:57:25.348424733Z"
    }
   },
   "id": "b7857f3da3c8d5bd"
  },
  {
   "cell_type": "code",
   "execution_count": null,
   "outputs": [],
   "source": [],
   "metadata": {
    "collapsed": false
   },
   "id": "d73253dabf7dd440"
  }
 ],
 "metadata": {
  "kernelspec": {
   "display_name": "Python 3",
   "language": "python",
   "name": "python3"
  },
  "language_info": {
   "codemirror_mode": {
    "name": "ipython",
    "version": 2
   },
   "file_extension": ".py",
   "mimetype": "text/x-python",
   "name": "python",
   "nbconvert_exporter": "python",
   "pygments_lexer": "ipython2",
   "version": "2.7.6"
  }
 },
 "nbformat": 4,
 "nbformat_minor": 5
}

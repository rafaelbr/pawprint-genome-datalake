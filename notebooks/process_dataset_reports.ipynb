{
 "cells": [
  {
   "cell_type": "code",
   "execution_count": 1,
   "id": "initial_id",
   "metadata": {
    "collapsed": true,
    "ExecuteTime": {
     "end_time": "2024-01-19T12:53:14.729320218Z",
     "start_time": "2024-01-19T12:53:14.601981572Z"
    }
   },
   "outputs": [],
   "source": [
    "from pyspark import SparkContext\n",
    "from pyspark.sql import SparkSession"
   ]
  },
  {
   "cell_type": "code",
   "execution_count": 3,
   "outputs": [
    {
     "name": "stderr",
     "output_type": "stream",
     "text": [
      "24/01/19 09:55:02 WARN Utils: Your hostname, geekfox-nb resolves to a loopback address: 127.0.1.1; using 10.0.0.108 instead (on interface wlp2s0)\n",
      "24/01/19 09:55:02 WARN Utils: Set SPARK_LOCAL_IP if you need to bind to another address\n",
      "Setting default log level to \"WARN\".\n",
      "To adjust logging level use sc.setLogLevel(newLevel). For SparkR, use setLogLevel(newLevel).\n",
      "24/01/19 09:55:03 WARN NativeCodeLoader: Unable to load native-hadoop library for your platform... using builtin-java classes where applicable\n"
     ]
    }
   ],
   "source": [
    "sc = SparkContext()\n",
    "spark = SparkSession(sc)"
   ],
   "metadata": {
    "collapsed": false,
    "ExecuteTime": {
     "end_time": "2024-01-19T12:55:04.691137075Z",
     "start_time": "2024-01-19T12:55:00.943223017Z"
    }
   },
   "id": "9f477b34a37c1c4c"
  },
  {
   "cell_type": "code",
   "execution_count": 18,
   "outputs": [
    {
     "ename": "KeyError",
     "evalue": "'fields'",
     "output_type": "error",
     "traceback": [
      "\u001B[0;31m---------------------------------------------------------------------------\u001B[0m",
      "\u001B[0;31mKeyError\u001B[0m                                  Traceback (most recent call last)",
      "Cell \u001B[0;32mIn[18], line 6\u001B[0m\n\u001B[1;32m      4\u001B[0m \u001B[38;5;28;01mwith\u001B[39;00m \u001B[38;5;28mopen\u001B[39m(\u001B[38;5;124m'\u001B[39m\u001B[38;5;124m../config/schemas/dataset_report_schema.json\u001B[39m\u001B[38;5;124m'\u001B[39m) \u001B[38;5;28;01mas\u001B[39;00m f:\n\u001B[1;32m      5\u001B[0m     d \u001B[38;5;241m=\u001B[39m json\u001B[38;5;241m.\u001B[39mload(f)\n\u001B[0;32m----> 6\u001B[0m     schemaNew \u001B[38;5;241m=\u001B[39m \u001B[43mStructType\u001B[49m\u001B[38;5;241;43m.\u001B[39;49m\u001B[43mfromJson\u001B[49m\u001B[43m(\u001B[49m\u001B[43md\u001B[49m\u001B[43m)\u001B[49m\n",
      "File \u001B[0;32m~/projects/pawprint-cloud/venv/lib/python3.8/site-packages/pyspark/sql/types.py:1017\u001B[0m, in \u001B[0;36mStructType.fromJson\u001B[0;34m(cls, json)\u001B[0m\n\u001B[1;32m    924\u001B[0m \u001B[38;5;129m@classmethod\u001B[39m\n\u001B[1;32m    925\u001B[0m \u001B[38;5;28;01mdef\u001B[39;00m \u001B[38;5;21mfromJson\u001B[39m(\u001B[38;5;28mcls\u001B[39m, json: Dict[\u001B[38;5;28mstr\u001B[39m, Any]) \u001B[38;5;241m-\u001B[39m\u001B[38;5;241m>\u001B[39m \u001B[38;5;124m\"\u001B[39m\u001B[38;5;124mStructType\u001B[39m\u001B[38;5;124m\"\u001B[39m:\n\u001B[1;32m    926\u001B[0m \u001B[38;5;250m    \u001B[39m\u001B[38;5;124;03m\"\"\"\u001B[39;00m\n\u001B[1;32m    927\u001B[0m \u001B[38;5;124;03m    Constructs :class:`StructType` from a schema defined in JSON format.\u001B[39;00m\n\u001B[1;32m    928\u001B[0m \n\u001B[0;32m   (...)\u001B[0m\n\u001B[1;32m   1015\u001B[0m \u001B[38;5;124;03m    'struct<Person:struct<name:string,surname:string>>'\u001B[39;00m\n\u001B[1;32m   1016\u001B[0m \u001B[38;5;124;03m    \"\"\"\u001B[39;00m\n\u001B[0;32m-> 1017\u001B[0m     \u001B[38;5;28;01mreturn\u001B[39;00m StructType([StructField\u001B[38;5;241m.\u001B[39mfromJson(f) \u001B[38;5;28;01mfor\u001B[39;00m f \u001B[38;5;129;01min\u001B[39;00m \u001B[43mjson\u001B[49m\u001B[43m[\u001B[49m\u001B[38;5;124;43m\"\u001B[39;49m\u001B[38;5;124;43mfields\u001B[39;49m\u001B[38;5;124;43m\"\u001B[39;49m\u001B[43m]\u001B[49m])\n",
      "\u001B[0;31mKeyError\u001B[0m: 'fields'"
     ]
    }
   ],
   "source": [],
   "metadata": {
    "collapsed": false,
    "ExecuteTime": {
     "end_time": "2024-01-19T13:17:48.594957370Z",
     "start_time": "2024-01-19T13:17:48.359566540Z"
    }
   },
   "id": "cc6be5336c04c20"
  },
  {
   "cell_type": "code",
   "execution_count": 5,
   "outputs": [
    {
     "name": "stdout",
     "output_type": "stream",
     "text": [
      "+--------------------+\n",
      "|             reports|\n",
      "+--------------------+\n",
      "|[{GCA_963259705.1...|\n",
      "+--------------------+\n"
     ]
    }
   ],
   "source": [
    "df.show()"
   ],
   "metadata": {
    "collapsed": false,
    "ExecuteTime": {
     "end_time": "2024-01-19T12:56:37.231606275Z",
     "start_time": "2024-01-19T12:56:36.513965689Z"
    }
   },
   "id": "66bf930214dd8c3b"
  },
  {
   "cell_type": "code",
   "execution_count": 16,
   "outputs": [],
   "source": [
    "reports_df = df.toPandas()"
   ],
   "metadata": {
    "collapsed": false,
    "ExecuteTime": {
     "end_time": "2024-01-19T13:13:51.606914567Z",
     "start_time": "2024-01-19T13:13:51.447983944Z"
    }
   },
   "id": "9f83d06521067beb"
  },
  {
   "cell_type": "code",
   "execution_count": 17,
   "outputs": [
    {
     "data": {
      "text/plain": "                                             reports\n0  [(GCA_963259705.1, (Row(busco_lineage=None, bu...",
      "text/html": "<div>\n<style scoped>\n    .dataframe tbody tr th:only-of-type {\n        vertical-align: middle;\n    }\n\n    .dataframe tbody tr th {\n        vertical-align: top;\n    }\n\n    .dataframe thead th {\n        text-align: right;\n    }\n</style>\n<table border=\"1\" class=\"dataframe\">\n  <thead>\n    <tr style=\"text-align: right;\">\n      <th></th>\n      <th>reports</th>\n    </tr>\n  </thead>\n  <tbody>\n    <tr>\n      <th>0</th>\n      <td>[(GCA_963259705.1, (Row(busco_lineage=None, bu...</td>\n    </tr>\n  </tbody>\n</table>\n</div>"
     },
     "execution_count": 17,
     "metadata": {},
     "output_type": "execute_result"
    }
   ],
   "source": [
    "reports_df.head()"
   ],
   "metadata": {
    "collapsed": false,
    "ExecuteTime": {
     "end_time": "2024-01-19T13:14:00.556879642Z",
     "start_time": "2024-01-19T13:14:00.526767430Z"
    }
   },
   "id": "8f89d22433d02e8a"
  },
  {
   "cell_type": "code",
   "execution_count": null,
   "outputs": [],
   "source": [],
   "metadata": {
    "collapsed": false
   },
   "id": "b0ebdb2ce971b94b"
  }
 ],
 "metadata": {
  "kernelspec": {
   "display_name": "Python 3",
   "language": "python",
   "name": "python3"
  },
  "language_info": {
   "codemirror_mode": {
    "name": "ipython",
    "version": 2
   },
   "file_extension": ".py",
   "mimetype": "text/x-python",
   "name": "python",
   "nbconvert_exporter": "python",
   "pygments_lexer": "ipython2",
   "version": "2.7.6"
  }
 },
 "nbformat": 4,
 "nbformat_minor": 5
}

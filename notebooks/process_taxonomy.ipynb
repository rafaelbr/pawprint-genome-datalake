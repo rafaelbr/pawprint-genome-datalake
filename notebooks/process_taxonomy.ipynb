{
 "cells": [
  {
   "cell_type": "code",
   "execution_count": 3,
   "id": "initial_id",
   "metadata": {
    "collapsed": true,
    "ExecuteTime": {
     "end_time": "2024-01-19T12:55:54.141965217Z",
     "start_time": "2024-01-19T12:55:53.991279093Z"
    }
   },
   "outputs": [],
   "source": [
    "from pyspark import SparkContext\n",
    "from pyspark.sql import SparkSession"
   ]
  },
  {
   "cell_type": "code",
   "execution_count": 4,
   "outputs": [
    {
     "name": "stderr",
     "output_type": "stream",
     "text": [
      "24/01/19 09:55:56 WARN Utils: Your hostname, geekfox-nb resolves to a loopback address: 127.0.1.1; using 10.0.0.108 instead (on interface wlp2s0)\n",
      "24/01/19 09:55:56 WARN Utils: Set SPARK_LOCAL_IP if you need to bind to another address\n",
      "Setting default log level to \"WARN\".\n",
      "To adjust logging level use sc.setLogLevel(newLevel). For SparkR, use setLogLevel(newLevel).\n",
      "24/01/19 09:55:57 WARN NativeCodeLoader: Unable to load native-hadoop library for your platform... using builtin-java classes where applicable\n",
      "24/01/19 09:55:57 WARN Utils: Service 'SparkUI' could not bind on port 4040. Attempting port 4041.\n"
     ]
    }
   ],
   "source": [
    "sc = SparkContext()\n",
    "spark = SparkSession(sc)"
   ],
   "metadata": {
    "collapsed": false,
    "ExecuteTime": {
     "end_time": "2024-01-19T12:55:58.423830861Z",
     "start_time": "2024-01-19T12:55:54.980746629Z"
    }
   },
   "id": "fef5eda284d16875"
  },
  {
   "cell_type": "code",
   "execution_count": 5,
   "outputs": [
    {
     "name": "stderr",
     "output_type": "stream",
     "text": [
      "                                                                                \r"
     ]
    }
   ],
   "source": [
    "df = spark.read.json('../sample_data/taxonomy_full.json')"
   ],
   "metadata": {
    "collapsed": false,
    "ExecuteTime": {
     "end_time": "2024-01-19T12:56:02.588112858Z",
     "start_time": "2024-01-19T12:55:58.425952933Z"
    }
   },
   "id": "4511aba3618b9828"
  },
  {
   "cell_type": "code",
   "execution_count": 6,
   "outputs": [
    {
     "name": "stdout",
     "output_type": "stream",
     "text": [
      "+--------------------+\n",
      "|             reports|\n",
      "+--------------------+\n",
      "|[{GCA_963259705.1...|\n",
      "+--------------------+\n"
     ]
    }
   ],
   "source": [
    "df.show()"
   ],
   "metadata": {
    "collapsed": false,
    "ExecuteTime": {
     "end_time": "2024-01-19T12:56:04.642987223Z",
     "start_time": "2024-01-19T12:56:03.890904196Z"
    }
   },
   "id": "f5eca66ce4f7d6da"
  },
  {
   "cell_type": "code",
   "execution_count": 94,
   "outputs": [
    {
     "data": {
      "text/plain": "[Row(query=['51300'], taxonomy=Row(children=None, common_name='noctule', counts=[Row(count=37, type='COUNT_TYPE_GENE'), Row(count=13, type='COUNT_TYPE_PROTEIN_CODING'), Row(count=2, type='COUNT_TYPE_rRNA'), Row(count=22, type='COUNT_TYPE_tRNA')], descendent_with_described_species_names_count=None, has_described_species_name=True, lineage=[1, 131567, 2759, 33154, 33208, 6072, 33213, 33511, 7711, 89593, 7742, 7776, 117570, 117571, 8287, 1338369, 32523, 32524, 40674, 32525, 9347, 1437010, 314145, 9397, 30560, 9431, 51299], organism_name='Nyctalus noctula', rank='SPECIES', tax_id=51300))]"
     },
     "execution_count": 94,
     "metadata": {},
     "output_type": "execute_result"
    }
   ],
   "source": [
    "from pyspark.sql.functions import from_json\n",
    "\n",
    "taxonomy_nodes = df.rdd.flatMap(lambda x: x.taxonomy_nodes)\n",
    "taxonomy_nodes.take(1)"
   ],
   "metadata": {
    "collapsed": false,
    "ExecuteTime": {
     "end_time": "2023-12-08T17:55:09.440582Z",
     "start_time": "2023-12-08T17:55:09.268526Z"
    }
   },
   "id": "782885db3fa1475a"
  },
  {
   "cell_type": "code",
   "execution_count": 101,
   "outputs": [
    {
     "data": {
      "text/plain": "[Row(children=None, common_name='noctule', counts=[Row(count=37, type='COUNT_TYPE_GENE'), Row(count=13, type='COUNT_TYPE_PROTEIN_CODING'), Row(count=2, type='COUNT_TYPE_rRNA'), Row(count=22, type='COUNT_TYPE_tRNA')], descendent_with_described_species_names_count=None, has_described_species_name=True, lineage=[1, 131567, 2759, 33154, 33208, 6072, 33213, 33511, 7711, 89593, 7742, 7776, 117570, 117571, 8287, 1338369, 32523, 32524, 40674, 32525, 9347, 1437010, 314145, 9397, 30560, 9431, 51299], organism_name='Nyctalus noctula', rank='SPECIES', tax_id=51300)]"
     },
     "execution_count": 101,
     "metadata": {},
     "output_type": "execute_result"
    }
   ],
   "source": [
    "taxonomy = taxonomy_nodes.map(lambda x: x.taxonomy)\n",
    "taxonomy.take(1)"
   ],
   "metadata": {
    "collapsed": false,
    "ExecuteTime": {
     "end_time": "2023-12-08T18:04:32.473331Z",
     "start_time": "2023-12-08T18:04:32.385144Z"
    }
   },
   "id": "de40362e46144665"
  },
  {
   "cell_type": "code",
   "execution_count": 115,
   "outputs": [
    {
     "name": "stdout",
     "output_type": "stream",
     "text": [
      "+-------+-----+--------------------+\n",
      "| tax_id|count|                type|\n",
      "+-------+-----+--------------------+\n",
      "|  51300|   37|     COUNT_TYPE_GENE|\n",
      "|  51300|   13|COUNT_TYPE_PROTEI...|\n",
      "|  51300|    2|     COUNT_TYPE_rRNA|\n",
      "|  51300|   22|     COUNT_TYPE_tRNA|\n",
      "| 117602|    0|                    |\n",
      "|  77221|    0|                    |\n",
      "| 258940|    0|                    |\n",
      "|  94117|   13|     COUNT_TYPE_GENE|\n",
      "|  94117|   13|COUNT_TYPE_PROTEI...|\n",
      "|2871749|    0|                    |\n",
      "|2778648|    0|                    |\n",
      "| 187019|    0|                    |\n",
      "| 258943|    0|                    |\n",
      "|1578730|    0|                    |\n",
      "| 412090|    0|                    |\n",
      "|2069573|    0|                    |\n",
      "|2510964|    0|                    |\n",
      "|2742407|    0|                    |\n",
      "|2742402|    0|                    |\n",
      "|  27668|   37|     COUNT_TYPE_GENE|\n",
      "+-------+-----+--------------------+\n"
     ]
    }
   ],
   "source": [
    "def flat_counts(row):\n",
    "   v_id = row[0]\n",
    "   if row[1] is None:\n",
    "      return [Row(tax_id=v_id, count=0, type='')]\n",
    "   else:\n",
    "       v_count = [ Row(tax_id=v_id, count=x['count'], type=x['type']) for x in row[1]]\n",
    "       return v_count\n",
    "\n",
    "counts = taxonomy.map(lambda x: (x.tax_id, x.counts))\n",
    "counts_table = counts.flatMap(flat_counts)\n",
    "counts_table.toDF().show()"
   ],
   "metadata": {
    "collapsed": false,
    "ExecuteTime": {
     "end_time": "2023-12-08T18:15:53.231342Z",
     "start_time": "2023-12-08T18:15:52.675480Z"
    }
   },
   "id": "156726644d841593"
  },
  {
   "cell_type": "code",
   "execution_count": 97,
   "outputs": [
    {
     "data": {
      "text/plain": "[Row(tax_id=51300, common_name='noctule', organism_name='Nyctalus noctula', rank='SPECIES')]"
     },
     "execution_count": 97,
     "metadata": {},
     "output_type": "execute_result"
    }
   ],
   "source": [
    "from pyspark.sql import Row\n",
    "\n",
    "taxonomy_table = taxonomy.map(lambda x: Row(tax_id=x.tax_id, common_name=x.common_name, organism_name=x.organism_name, rank=x.rank))\n",
    "taxonomy_table.take(1)"
   ],
   "metadata": {
    "collapsed": false,
    "ExecuteTime": {
     "end_time": "2023-12-08T17:55:16.140710Z",
     "start_time": "2023-12-08T17:55:16.012513Z"
    }
   },
   "id": "a796510f7959b7c3"
  },
  {
   "cell_type": "code",
   "execution_count": 98,
   "outputs": [
    {
     "name": "stdout",
     "output_type": "stream",
     "text": [
      "+-------+--------------------+--------------------+----------+\n",
      "| tax_id|         common_name|       organism_name|      rank|\n",
      "+-------+--------------------+--------------------+----------+\n",
      "|  51300|             noctule|    Nyctalus noctula|   SPECIES|\n",
      "| 117602|                NULL|Miniopterus schre...|SUBSPECIES|\n",
      "|  77221|                NULL|Rousettus aegypti...|SUBSPECIES|\n",
      "| 258940|Himalayan whisker...| Myotis siligorensis|   SPECIES|\n",
      "|  94117|little red flying...| Pteropus scapulatus|   SPECIES|\n",
      "|2871749|                NULL|Eptesicus fuscus ...|SUBSPECIES|\n",
      "|2778648|                NULL|  Laephotis robertsi|   SPECIES|\n",
      "| 187019|Ryukyu tube-nosed...|     Murina ryukyuna|   SPECIES|\n",
      "| 258943|  Rendall's serotine|Pseudoromicia ren...|   SPECIES|\n",
      "|1578730|                NULL|Neoromicia cf. me...|   SPECIES|\n",
      "| 412090|  Hanaki's dwarf bat| Pipistrellus hanaki|   SPECIES|\n",
      "|2069573|Yok Don helmeted bat|Cassistrellus yok...|   SPECIES|\n",
      "|2510964|                NULL|     Myotis araxenus|   SPECIES|\n",
      "|2742407|                NULL|Myotis cf. mystac...|   SPECIES|\n",
      "|2742402|                NULL|Myotis cf. mystac...|   SPECIES|\n",
      "|  27668|eastern small-foo...|       Myotis leibii|   SPECIES|\n",
      "| 170214|                NULL|    Dobsonia inermis|   SPECIES|\n",
      "| 481313|    Small woolly bat|Kerivoula intermedia|   SPECIES|\n",
      "| 451110|                NULL|Corynorhinus town...|SUBSPECIES|\n",
      "| 392318|                NULL|     Myotis bombinus|   SPECIES|\n",
      "+-------+--------------------+--------------------+----------+\n"
     ]
    }
   ],
   "source": [
    "taxonomy_table.toDF().show()"
   ],
   "metadata": {
    "collapsed": false,
    "ExecuteTime": {
     "end_time": "2023-12-08T17:55:17.554722Z",
     "start_time": "2023-12-08T17:55:17.175975Z"
    }
   },
   "id": "74a2b8ad62e4bed0"
  },
  {
   "cell_type": "code",
   "execution_count": null,
   "outputs": [],
   "source": [],
   "metadata": {
    "collapsed": false
   },
   "id": "fa18d764541ffc0c"
  }
 ],
 "metadata": {
  "kernelspec": {
   "display_name": "Python 3",
   "language": "python",
   "name": "python3"
  },
  "language_info": {
   "codemirror_mode": {
    "name": "ipython",
    "version": 2
   },
   "file_extension": ".py",
   "mimetype": "text/x-python",
   "name": "python",
   "nbconvert_exporter": "python",
   "pygments_lexer": "ipython2",
   "version": "2.7.6"
  }
 },
 "nbformat": 4,
 "nbformat_minor": 5
}

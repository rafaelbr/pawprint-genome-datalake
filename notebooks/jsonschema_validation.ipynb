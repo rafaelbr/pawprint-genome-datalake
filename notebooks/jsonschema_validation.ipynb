{
 "cells": [
  {
   "cell_type": "code",
   "execution_count": 10,
   "id": "initial_id",
   "metadata": {
    "collapsed": true,
    "ExecuteTime": {
     "end_time": "2024-01-18T14:10:27.716732028Z",
     "start_time": "2024-01-18T14:10:27.502640631Z"
    }
   },
   "outputs": [],
   "source": [
    "import json\n",
    "import jsonschema\n",
    "import boto3"
   ]
  },
  {
   "cell_type": "code",
   "execution_count": 11,
   "outputs": [],
   "source": [
    "boto3.setup_default_session(profile_name='pawprint')"
   ],
   "metadata": {
    "collapsed": false,
    "ExecuteTime": {
     "end_time": "2024-01-18T14:11:40.487832441Z",
     "start_time": "2024-01-18T14:11:40.295486290Z"
    }
   },
   "id": "9b03ba7b42caa765"
  },
  {
   "cell_type": "code",
   "execution_count": 13,
   "outputs": [],
   "source": [
    "s3 = boto3.resource('s3')\n",
    "obj = s3.Object('pawprint-resources', 'schemas/taxonomy_schema.json')\n",
    "body = obj.get()['Body'].read()\n",
    "schema = json.loads(body)\n",
    "\n",
    "obj = s3.Object('pawprint-raw', 'taxonomy/taxonomy/pending/taxonomy_full.json')\n",
    "body = obj.get()['Body'].read()\n",
    "taxonomy = json.loads(body)\n",
    "    \n",
    "    "
   ],
   "metadata": {
    "collapsed": false,
    "ExecuteTime": {
     "end_time": "2024-01-18T14:14:57.110581047Z",
     "start_time": "2024-01-18T14:14:52.558087640Z"
    }
   },
   "id": "592c550fcffb3360"
  },
  {
   "cell_type": "code",
   "execution_count": 14,
   "outputs": [],
   "source": [
    "#modificando schema para adicionar o taxonomy_nodes no inicio\n",
    "properties = schema['properties']"
   ],
   "metadata": {
    "collapsed": false,
    "ExecuteTime": {
     "end_time": "2024-01-18T14:15:00.299733191Z",
     "start_time": "2024-01-18T14:15:00.262938886Z"
    }
   },
   "id": "304f729768efdcf2"
  },
  {
   "cell_type": "code",
   "execution_count": 22,
   "outputs": [],
   "source": [
    "schema = {\n",
    "    '$schema': 'http://json-schema.org/draft-04/schema#',\n",
    "    'type': 'object',\n",
    "    'properties': {\n",
    "        'taxonomy_nodes': {\n",
    "            'type': 'array',\n",
    "            'items': {\n",
    "                'type': 'object',\n",
    "                'properties': properties\n",
    "            }\n",
    "        }\n",
    "    }\n",
    "}\n",
    "\n",
    "schema['properties']['taxonomy_nodes']['properties'] = properties"
   ],
   "metadata": {
    "collapsed": false,
    "ExecuteTime": {
     "end_time": "2024-01-18T14:19:33.999126801Z",
     "start_time": "2024-01-18T14:19:33.959164207Z"
    }
   },
   "id": "36d31e4e02c7cf1f"
  },
  {
   "cell_type": "code",
   "execution_count": 23,
   "outputs": [],
   "source": [
    "try:\n",
    "    jsonschema.validate(taxonomy, schema)\n",
    "except Exception as e:\n",
    "    print(f'validation error {e.message}')"
   ],
   "metadata": {
    "collapsed": false,
    "ExecuteTime": {
     "end_time": "2024-01-18T14:19:34.959476315Z",
     "start_time": "2024-01-18T14:19:34.935138048Z"
    }
   },
   "id": "3afdd9974bcc2d66"
  },
  {
   "cell_type": "code",
   "execution_count": null,
   "outputs": [],
   "source": [],
   "metadata": {
    "collapsed": false
   },
   "id": "6a072058387f39e5"
  }
 ],
 "metadata": {
  "kernelspec": {
   "display_name": "Python 3",
   "language": "python",
   "name": "python3"
  },
  "language_info": {
   "codemirror_mode": {
    "name": "ipython",
    "version": 2
   },
   "file_extension": ".py",
   "mimetype": "text/x-python",
   "name": "python",
   "nbconvert_exporter": "python",
   "pygments_lexer": "ipython2",
   "version": "2.7.6"
  }
 },
 "nbformat": 4,
 "nbformat_minor": 5
}

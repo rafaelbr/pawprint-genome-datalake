{
 "cells": [
  {
   "cell_type": "code",
   "execution_count": 1,
   "id": "initial_id",
   "metadata": {
    "collapsed": true,
    "ExecuteTime": {
     "end_time": "2023-11-30T13:19:53.434875Z",
     "start_time": "2023-11-30T13:19:52.038297Z"
    }
   },
   "outputs": [],
   "source": [
    "import awswrangler as wr\n",
    "import pandas as pd\n",
    "import boto3\n",
    "import json"
   ]
  },
  {
   "cell_type": "code",
   "execution_count": 1,
   "outputs": [],
   "source": [],
   "metadata": {
    "collapsed": false,
    "ExecuteTime": {
     "end_time": "2023-11-30T13:19:54.265370Z",
     "start_time": "2023-11-30T13:19:54.250636Z"
    }
   },
   "id": "2b733e6cf8f3572b"
  },
  {
   "cell_type": "code",
   "execution_count": 2,
   "outputs": [],
   "source": [
    "boto3.setup_default_session(profile_name='geekfox-pawprint')"
   ],
   "metadata": {
    "collapsed": false,
    "ExecuteTime": {
     "end_time": "2023-11-30T13:19:54.604806Z",
     "start_time": "2023-11-30T13:19:54.594868Z"
    }
   },
   "id": "9226492f7c21ea60"
  },
  {
   "cell_type": "code",
   "execution_count": 28,
   "outputs": [],
   "source": [
    "df = wr.s3.read_json('s3://bucket/taxonomy/taxonomy/taxonomy_full.json', lines=True)"
   ],
   "metadata": {
    "collapsed": false,
    "ExecuteTime": {
     "end_time": "2023-11-30T16:11:35.638344Z",
     "start_time": "2023-11-30T16:11:33.682144Z"
    }
   },
   "id": "bf79a471d9394498"
  },
  {
   "cell_type": "code",
   "execution_count": 38,
   "outputs": [],
   "source": [
    "import io \n",
    "\n",
    "s3 = boto3.resource('s3')\n",
    "obj = s3.Object('bucket', 'taxonomy/taxonomy/taxonomy_full.json')\n",
    "body = obj.get()['Body'].read()\n",
    "df = pd.read_json(io.StringIO(body.decode('utf-8')))"
   ],
   "metadata": {
    "collapsed": false,
    "ExecuteTime": {
     "end_time": "2023-11-30T16:38:22.546754Z",
     "start_time": "2023-11-30T16:38:21.008238Z"
    }
   },
   "id": "cf581f76bef9a8d7"
  },
  {
   "cell_type": "code",
   "execution_count": 34,
   "outputs": [
    {
     "data": {
      "text/plain": "                                      taxonomy_nodes\n0  {'query': ['301158'], 'taxonomy': {'tax_id': 3...\n1  {'query': ['374419'], 'taxonomy': {'tax_id': 3...\n2  {'query': ['1496132'], 'taxonomy': {'tax_id': ...\n3  {'query': ['1296583'], 'taxonomy': {'tax_id': ...\n4  {'query': ['1209081'], 'taxonomy': {'tax_id': ...",
      "text/html": "<div>\n<style scoped>\n    .dataframe tbody tr th:only-of-type {\n        vertical-align: middle;\n    }\n\n    .dataframe tbody tr th {\n        vertical-align: top;\n    }\n\n    .dataframe thead th {\n        text-align: right;\n    }\n</style>\n<table border=\"1\" class=\"dataframe\">\n  <thead>\n    <tr style=\"text-align: right;\">\n      <th></th>\n      <th>taxonomy_nodes</th>\n    </tr>\n  </thead>\n  <tbody>\n    <tr>\n      <th>0</th>\n      <td>{'query': ['301158'], 'taxonomy': {'tax_id': 3...</td>\n    </tr>\n    <tr>\n      <th>1</th>\n      <td>{'query': ['374419'], 'taxonomy': {'tax_id': 3...</td>\n    </tr>\n    <tr>\n      <th>2</th>\n      <td>{'query': ['1496132'], 'taxonomy': {'tax_id': ...</td>\n    </tr>\n    <tr>\n      <th>3</th>\n      <td>{'query': ['1296583'], 'taxonomy': {'tax_id': ...</td>\n    </tr>\n    <tr>\n      <th>4</th>\n      <td>{'query': ['1209081'], 'taxonomy': {'tax_id': ...</td>\n    </tr>\n  </tbody>\n</table>\n</div>"
     },
     "execution_count": 34,
     "metadata": {},
     "output_type": "execute_result"
    }
   ],
   "source": [
    "df.head()"
   ],
   "metadata": {
    "collapsed": false,
    "ExecuteTime": {
     "end_time": "2023-11-30T16:36:53.221909Z",
     "start_time": "2023-11-30T16:36:53.216667Z"
    }
   },
   "id": "2f43bd948828d515"
  },
  {
   "cell_type": "code",
   "execution_count": 39,
   "outputs": [],
   "source": [
    "\n",
    "df = pd.json_normalize(df['taxonomy_nodes'].tolist())"
   ],
   "metadata": {
    "collapsed": false,
    "ExecuteTime": {
     "end_time": "2023-11-30T16:38:26.646084Z",
     "start_time": "2023-11-30T16:38:26.640693Z"
    }
   },
   "id": "9ff06b047bccf3d2"
  },
  {
   "cell_type": "code",
   "execution_count": 40,
   "outputs": [
    {
     "data": {
      "text/plain": "       query  taxonomy.tax_id             taxonomy.organism_name  \\\n0   [301158]           301158             Haplonycteris fischeri   \n1   [374419]           374419                 Megaerops kusnotoi   \n2  [1496132]          1496132                   Pteropus tokudae   \n3  [1296583]          1296583  Vespertilionidae sp. BOLD:AAC0445   \n4  [1209081]          1209081                   Myotis planiceps   \n\n         taxonomy.common_name  \\\n0  Philippine pygmy fruit bat   \n1    Javan tailless fruit bat   \n2             Guam flying fox   \n3                         NaN   \n4          flat-headed Myotis   \n\n                                    taxonomy.lineage taxonomy.rank  \\\n0  [1, 131567, 2759, 33154, 33208, 6072, 33213, 3...       SPECIES   \n1  [1, 131567, 2759, 33154, 33208, 6072, 33213, 3...       SPECIES   \n2  [1, 131567, 2759, 33154, 33208, 6072, 33213, 3...       SPECIES   \n3  [1, 131567, 2759, 33154, 33208, 6072, 33213, 3...       SPECIES   \n4  [1, 131567, 2759, 33154, 33208, 6072, 33213, 3...       SPECIES   \n\n  taxonomy.has_described_species_name taxonomy.children  \\\n0                                True               NaN   \n1                                True               NaN   \n2                                True               NaN   \n3                                 NaN               NaN   \n4                                True               NaN   \n\n   taxonomy.descendent_with_described_species_names_count taxonomy.counts  \n0                                                NaN                  NaN  \n1                                                NaN                  NaN  \n2                                                NaN                  NaN  \n3                                                NaN                  NaN  \n4                                                NaN                  NaN  ",
      "text/html": "<div>\n<style scoped>\n    .dataframe tbody tr th:only-of-type {\n        vertical-align: middle;\n    }\n\n    .dataframe tbody tr th {\n        vertical-align: top;\n    }\n\n    .dataframe thead th {\n        text-align: right;\n    }\n</style>\n<table border=\"1\" class=\"dataframe\">\n  <thead>\n    <tr style=\"text-align: right;\">\n      <th></th>\n      <th>query</th>\n      <th>taxonomy.tax_id</th>\n      <th>taxonomy.organism_name</th>\n      <th>taxonomy.common_name</th>\n      <th>taxonomy.lineage</th>\n      <th>taxonomy.rank</th>\n      <th>taxonomy.has_described_species_name</th>\n      <th>taxonomy.children</th>\n      <th>taxonomy.descendent_with_described_species_names_count</th>\n      <th>taxonomy.counts</th>\n    </tr>\n  </thead>\n  <tbody>\n    <tr>\n      <th>0</th>\n      <td>[301158]</td>\n      <td>301158</td>\n      <td>Haplonycteris fischeri</td>\n      <td>Philippine pygmy fruit bat</td>\n      <td>[1, 131567, 2759, 33154, 33208, 6072, 33213, 3...</td>\n      <td>SPECIES</td>\n      <td>True</td>\n      <td>NaN</td>\n      <td>NaN</td>\n      <td>NaN</td>\n    </tr>\n    <tr>\n      <th>1</th>\n      <td>[374419]</td>\n      <td>374419</td>\n      <td>Megaerops kusnotoi</td>\n      <td>Javan tailless fruit bat</td>\n      <td>[1, 131567, 2759, 33154, 33208, 6072, 33213, 3...</td>\n      <td>SPECIES</td>\n      <td>True</td>\n      <td>NaN</td>\n      <td>NaN</td>\n      <td>NaN</td>\n    </tr>\n    <tr>\n      <th>2</th>\n      <td>[1496132]</td>\n      <td>1496132</td>\n      <td>Pteropus tokudae</td>\n      <td>Guam flying fox</td>\n      <td>[1, 131567, 2759, 33154, 33208, 6072, 33213, 3...</td>\n      <td>SPECIES</td>\n      <td>True</td>\n      <td>NaN</td>\n      <td>NaN</td>\n      <td>NaN</td>\n    </tr>\n    <tr>\n      <th>3</th>\n      <td>[1296583]</td>\n      <td>1296583</td>\n      <td>Vespertilionidae sp. BOLD:AAC0445</td>\n      <td>NaN</td>\n      <td>[1, 131567, 2759, 33154, 33208, 6072, 33213, 3...</td>\n      <td>SPECIES</td>\n      <td>NaN</td>\n      <td>NaN</td>\n      <td>NaN</td>\n      <td>NaN</td>\n    </tr>\n    <tr>\n      <th>4</th>\n      <td>[1209081]</td>\n      <td>1209081</td>\n      <td>Myotis planiceps</td>\n      <td>flat-headed Myotis</td>\n      <td>[1, 131567, 2759, 33154, 33208, 6072, 33213, 3...</td>\n      <td>SPECIES</td>\n      <td>True</td>\n      <td>NaN</td>\n      <td>NaN</td>\n      <td>NaN</td>\n    </tr>\n  </tbody>\n</table>\n</div>"
     },
     "execution_count": 40,
     "metadata": {},
     "output_type": "execute_result"
    }
   ],
   "source": [
    "df.head()"
   ],
   "metadata": {
    "collapsed": false,
    "ExecuteTime": {
     "end_time": "2023-11-30T16:38:27.829991Z",
     "start_time": "2023-11-30T16:38:27.825081Z"
    }
   },
   "id": "2b3751862ee3d4db"
  },
  {
   "cell_type": "code",
   "execution_count": 7,
   "outputs": [
    {
     "data": {
      "text/plain": "Empty DataFrame\nColumns: [query, taxonomy.tax_id, taxonomy.organism_name, taxonomy.common_name, taxonomy.lineage, taxonomy.children, taxonomy.descendent_with_described_species_names_count, taxonomy.rank, taxonomy.has_described_species_name, taxonomy.counts]\nIndex: []",
      "text/html": "<div>\n<style scoped>\n    .dataframe tbody tr th:only-of-type {\n        vertical-align: middle;\n    }\n\n    .dataframe tbody tr th {\n        vertical-align: top;\n    }\n\n    .dataframe thead th {\n        text-align: right;\n    }\n</style>\n<table border=\"1\" class=\"dataframe\">\n  <thead>\n    <tr style=\"text-align: right;\">\n      <th></th>\n      <th>query</th>\n      <th>taxonomy.tax_id</th>\n      <th>taxonomy.organism_name</th>\n      <th>taxonomy.common_name</th>\n      <th>taxonomy.lineage</th>\n      <th>taxonomy.children</th>\n      <th>taxonomy.descendent_with_described_species_names_count</th>\n      <th>taxonomy.rank</th>\n      <th>taxonomy.has_described_species_name</th>\n      <th>taxonomy.counts</th>\n    </tr>\n  </thead>\n  <tbody>\n  </tbody>\n</table>\n</div>"
     },
     "execution_count": 7,
     "metadata": {},
     "output_type": "execute_result"
    }
   ],
   "source": [
    "df[~df['taxonomy.rank'].isin(['SPECIES', 'SUBSPECIES'])].head()"
   ],
   "metadata": {
    "collapsed": false,
    "ExecuteTime": {
     "end_time": "2023-11-28T16:09:18.687574Z",
     "start_time": "2023-11-28T16:09:18.669396Z"
    }
   },
   "id": "c69bec4e3315224b"
  },
  {
   "cell_type": "code",
   "execution_count": 8,
   "outputs": [
    {
     "data": {
      "text/plain": "       query  taxonomy.tax_id  taxonomy.organism_name taxonomy.common_name  \\\n0    [59472]            59472     Pipistrellus kuhlii   Kuhl's pipistrelle   \n11  [159332]           159332          Myotis oxyotus                  NaN   \n26  [384634]           384634       Myotis chiloensis       Chilean myotis   \n30  [242915]           242915  Plecotus macrobullaris                  NaN   \n46  [392318]           392318         Myotis bombinus                  NaN   \n\n                                     taxonomy.lineage  taxonomy.children  \\\n0   [1, 131567, 2759, 33154, 33208, 6072, 33213, 3...  [1707946, 983528]   \n11  [1, 131567, 2759, 33154, 33208, 6072, 33213, 3...          [1908665]   \n26  [1, 131567, 2759, 33154, 33208, 6072, 33213, 3...          [2977340]   \n30  [1, 131567, 2759, 33154, 33208, 6072, 33213, 3...           [272800]   \n46  [1, 131567, 2759, 33154, 33208, 6072, 33213, 3...           [392319]   \n\n    taxonomy.descendent_with_described_species_names_count taxonomy.rank  \\\n0                                                 2.0            SPECIES   \n11                                                1.0            SPECIES   \n26                                                1.0            SPECIES   \n30                                                1.0            SPECIES   \n46                                                1.0            SPECIES   \n\n   taxonomy.has_described_species_name  \\\n0                                 True   \n11                                True   \n26                                True   \n30                                True   \n46                                True   \n\n                                      taxonomy.counts  \n0   [{'type': 'COUNT_TYPE_GENE', 'count': 29200}, ...  \n11  [{'type': 'COUNT_TYPE_GENE', 'count': 37}, {'t...  \n26                                                NaN  \n30  [{'type': 'COUNT_TYPE_GENE', 'count': 37}, {'t...  \n46  [{'type': 'COUNT_TYPE_GENE', 'count': 37}, {'t...  ",
      "text/html": "<div>\n<style scoped>\n    .dataframe tbody tr th:only-of-type {\n        vertical-align: middle;\n    }\n\n    .dataframe tbody tr th {\n        vertical-align: top;\n    }\n\n    .dataframe thead th {\n        text-align: right;\n    }\n</style>\n<table border=\"1\" class=\"dataframe\">\n  <thead>\n    <tr style=\"text-align: right;\">\n      <th></th>\n      <th>query</th>\n      <th>taxonomy.tax_id</th>\n      <th>taxonomy.organism_name</th>\n      <th>taxonomy.common_name</th>\n      <th>taxonomy.lineage</th>\n      <th>taxonomy.children</th>\n      <th>taxonomy.descendent_with_described_species_names_count</th>\n      <th>taxonomy.rank</th>\n      <th>taxonomy.has_described_species_name</th>\n      <th>taxonomy.counts</th>\n    </tr>\n  </thead>\n  <tbody>\n    <tr>\n      <th>0</th>\n      <td>[59472]</td>\n      <td>59472</td>\n      <td>Pipistrellus kuhlii</td>\n      <td>Kuhl's pipistrelle</td>\n      <td>[1, 131567, 2759, 33154, 33208, 6072, 33213, 3...</td>\n      <td>[1707946, 983528]</td>\n      <td>2.0</td>\n      <td>SPECIES</td>\n      <td>True</td>\n      <td>[{'type': 'COUNT_TYPE_GENE', 'count': 29200}, ...</td>\n    </tr>\n    <tr>\n      <th>11</th>\n      <td>[159332]</td>\n      <td>159332</td>\n      <td>Myotis oxyotus</td>\n      <td>NaN</td>\n      <td>[1, 131567, 2759, 33154, 33208, 6072, 33213, 3...</td>\n      <td>[1908665]</td>\n      <td>1.0</td>\n      <td>SPECIES</td>\n      <td>True</td>\n      <td>[{'type': 'COUNT_TYPE_GENE', 'count': 37}, {'t...</td>\n    </tr>\n    <tr>\n      <th>26</th>\n      <td>[384634]</td>\n      <td>384634</td>\n      <td>Myotis chiloensis</td>\n      <td>Chilean myotis</td>\n      <td>[1, 131567, 2759, 33154, 33208, 6072, 33213, 3...</td>\n      <td>[2977340]</td>\n      <td>1.0</td>\n      <td>SPECIES</td>\n      <td>True</td>\n      <td>NaN</td>\n    </tr>\n    <tr>\n      <th>30</th>\n      <td>[242915]</td>\n      <td>242915</td>\n      <td>Plecotus macrobullaris</td>\n      <td>NaN</td>\n      <td>[1, 131567, 2759, 33154, 33208, 6072, 33213, 3...</td>\n      <td>[272800]</td>\n      <td>1.0</td>\n      <td>SPECIES</td>\n      <td>True</td>\n      <td>[{'type': 'COUNT_TYPE_GENE', 'count': 37}, {'t...</td>\n    </tr>\n    <tr>\n      <th>46</th>\n      <td>[392318]</td>\n      <td>392318</td>\n      <td>Myotis bombinus</td>\n      <td>NaN</td>\n      <td>[1, 131567, 2759, 33154, 33208, 6072, 33213, 3...</td>\n      <td>[392319]</td>\n      <td>1.0</td>\n      <td>SPECIES</td>\n      <td>True</td>\n      <td>[{'type': 'COUNT_TYPE_GENE', 'count': 37}, {'t...</td>\n    </tr>\n  </tbody>\n</table>\n</div>"
     },
     "execution_count": 8,
     "metadata": {},
     "output_type": "execute_result"
    }
   ],
   "source": [
    "df[~df['taxonomy.children'].isna()].head()"
   ],
   "metadata": {
    "collapsed": false,
    "ExecuteTime": {
     "end_time": "2023-11-28T16:09:18.687885Z",
     "start_time": "2023-11-28T16:09:18.679336Z"
    }
   },
   "id": "b6de5fde590e532e"
  },
  {
   "cell_type": "code",
   "execution_count": 9,
   "outputs": [
    {
     "data": {
      "text/plain": "         query  taxonomy.tax_id   taxonomy.organism_name taxonomy.common_name  \\\n380  [1908665]          1908665  Myotis oxyotus gardneri                  NaN   \n\n                                      taxonomy.lineage taxonomy.children  \\\n380  [1, 131567, 2759, 33154, 33208, 6072, 33213, 3...               NaN   \n\n     taxonomy.descendent_with_described_species_names_count taxonomy.rank  \\\n380                                                NaN         SUBSPECIES   \n\n    taxonomy.has_described_species_name taxonomy.counts  \n380                                True             NaN  ",
      "text/html": "<div>\n<style scoped>\n    .dataframe tbody tr th:only-of-type {\n        vertical-align: middle;\n    }\n\n    .dataframe tbody tr th {\n        vertical-align: top;\n    }\n\n    .dataframe thead th {\n        text-align: right;\n    }\n</style>\n<table border=\"1\" class=\"dataframe\">\n  <thead>\n    <tr style=\"text-align: right;\">\n      <th></th>\n      <th>query</th>\n      <th>taxonomy.tax_id</th>\n      <th>taxonomy.organism_name</th>\n      <th>taxonomy.common_name</th>\n      <th>taxonomy.lineage</th>\n      <th>taxonomy.children</th>\n      <th>taxonomy.descendent_with_described_species_names_count</th>\n      <th>taxonomy.rank</th>\n      <th>taxonomy.has_described_species_name</th>\n      <th>taxonomy.counts</th>\n    </tr>\n  </thead>\n  <tbody>\n    <tr>\n      <th>380</th>\n      <td>[1908665]</td>\n      <td>1908665</td>\n      <td>Myotis oxyotus gardneri</td>\n      <td>NaN</td>\n      <td>[1, 131567, 2759, 33154, 33208, 6072, 33213, 3...</td>\n      <td>NaN</td>\n      <td>NaN</td>\n      <td>SUBSPECIES</td>\n      <td>True</td>\n      <td>NaN</td>\n    </tr>\n  </tbody>\n</table>\n</div>"
     },
     "execution_count": 9,
     "metadata": {},
     "output_type": "execute_result"
    }
   ],
   "source": [
    "df[df['taxonomy.tax_id'] == 1908665].head()"
   ],
   "metadata": {
    "collapsed": false,
    "ExecuteTime": {
     "end_time": "2023-11-28T16:09:18.746676Z",
     "start_time": "2023-11-28T16:09:18.685404Z"
    }
   },
   "id": "57c8031e4d41a737"
  },
  {
   "cell_type": "code",
   "execution_count": 27,
   "outputs": [
    {
     "data": {
      "text/plain": "       query  taxonomy.tax_id  taxonomy.organism_name taxonomy.common_name  \\\n0    [59472]            59472     Pipistrellus kuhlii   Kuhl's pipistrelle   \n11  [159332]           159332          Myotis oxyotus                  NaN   \n26  [384634]           384634       Myotis chiloensis       Chilean myotis   \n30  [242915]           242915  Plecotus macrobullaris                  NaN   \n46  [392318]           392318         Myotis bombinus                  NaN   \n\n                                     taxonomy.lineage  taxonomy.children  \\\n0   [1, 131567, 2759, 33154, 33208, 6072, 33213, 3...  [1707946, 983528]   \n11  [1, 131567, 2759, 33154, 33208, 6072, 33213, 3...          [1908665]   \n26  [1, 131567, 2759, 33154, 33208, 6072, 33213, 3...          [2977340]   \n30  [1, 131567, 2759, 33154, 33208, 6072, 33213, 3...           [272800]   \n46  [1, 131567, 2759, 33154, 33208, 6072, 33213, 3...           [392319]   \n\n    taxonomy.descendent_with_described_species_names_count taxonomy.rank  \\\n0                                                 2.0            SPECIES   \n11                                                1.0            SPECIES   \n26                                                1.0            SPECIES   \n30                                                1.0            SPECIES   \n46                                                1.0            SPECIES   \n\n   taxonomy.has_described_species_name  \\\n0                                 True   \n11                                True   \n26                                True   \n30                                True   \n46                                True   \n\n                                      taxonomy.counts  \n0   [{'type': 'COUNT_TYPE_GENE', 'count': 29200}, ...  \n11  [{'type': 'COUNT_TYPE_GENE', 'count': 37}, {'t...  \n26                                                NaN  \n30  [{'type': 'COUNT_TYPE_GENE', 'count': 37}, {'t...  \n46  [{'type': 'COUNT_TYPE_GENE', 'count': 37}, {'t...  ",
      "text/html": "<div>\n<style scoped>\n    .dataframe tbody tr th:only-of-type {\n        vertical-align: middle;\n    }\n\n    .dataframe tbody tr th {\n        vertical-align: top;\n    }\n\n    .dataframe thead th {\n        text-align: right;\n    }\n</style>\n<table border=\"1\" class=\"dataframe\">\n  <thead>\n    <tr style=\"text-align: right;\">\n      <th></th>\n      <th>query</th>\n      <th>taxonomy.tax_id</th>\n      <th>taxonomy.organism_name</th>\n      <th>taxonomy.common_name</th>\n      <th>taxonomy.lineage</th>\n      <th>taxonomy.children</th>\n      <th>taxonomy.descendent_with_described_species_names_count</th>\n      <th>taxonomy.rank</th>\n      <th>taxonomy.has_described_species_name</th>\n      <th>taxonomy.counts</th>\n    </tr>\n  </thead>\n  <tbody>\n    <tr>\n      <th>0</th>\n      <td>[59472]</td>\n      <td>59472</td>\n      <td>Pipistrellus kuhlii</td>\n      <td>Kuhl's pipistrelle</td>\n      <td>[1, 131567, 2759, 33154, 33208, 6072, 33213, 3...</td>\n      <td>[1707946, 983528]</td>\n      <td>2.0</td>\n      <td>SPECIES</td>\n      <td>True</td>\n      <td>[{'type': 'COUNT_TYPE_GENE', 'count': 29200}, ...</td>\n    </tr>\n    <tr>\n      <th>11</th>\n      <td>[159332]</td>\n      <td>159332</td>\n      <td>Myotis oxyotus</td>\n      <td>NaN</td>\n      <td>[1, 131567, 2759, 33154, 33208, 6072, 33213, 3...</td>\n      <td>[1908665]</td>\n      <td>1.0</td>\n      <td>SPECIES</td>\n      <td>True</td>\n      <td>[{'type': 'COUNT_TYPE_GENE', 'count': 37}, {'t...</td>\n    </tr>\n    <tr>\n      <th>26</th>\n      <td>[384634]</td>\n      <td>384634</td>\n      <td>Myotis chiloensis</td>\n      <td>Chilean myotis</td>\n      <td>[1, 131567, 2759, 33154, 33208, 6072, 33213, 3...</td>\n      <td>[2977340]</td>\n      <td>1.0</td>\n      <td>SPECIES</td>\n      <td>True</td>\n      <td>NaN</td>\n    </tr>\n    <tr>\n      <th>30</th>\n      <td>[242915]</td>\n      <td>242915</td>\n      <td>Plecotus macrobullaris</td>\n      <td>NaN</td>\n      <td>[1, 131567, 2759, 33154, 33208, 6072, 33213, 3...</td>\n      <td>[272800]</td>\n      <td>1.0</td>\n      <td>SPECIES</td>\n      <td>True</td>\n      <td>[{'type': 'COUNT_TYPE_GENE', 'count': 37}, {'t...</td>\n    </tr>\n    <tr>\n      <th>46</th>\n      <td>[392318]</td>\n      <td>392318</td>\n      <td>Myotis bombinus</td>\n      <td>NaN</td>\n      <td>[1, 131567, 2759, 33154, 33208, 6072, 33213, 3...</td>\n      <td>[392319]</td>\n      <td>1.0</td>\n      <td>SPECIES</td>\n      <td>True</td>\n      <td>[{'type': 'COUNT_TYPE_GENE', 'count': 37}, {'t...</td>\n    </tr>\n  </tbody>\n</table>\n</div>"
     },
     "execution_count": 27,
     "metadata": {},
     "output_type": "execute_result"
    }
   ],
   "source": [
    "df[~df['taxonomy.descendent_with_described_species_names_count'].isna()].head()"
   ],
   "metadata": {
    "collapsed": false,
    "ExecuteTime": {
     "end_time": "2023-11-28T16:29:47.519010Z",
     "start_time": "2023-11-28T16:29:47.513984Z"
    }
   },
   "id": "878efd25a00f743a"
  },
  {
   "cell_type": "code",
   "execution_count": 15,
   "outputs": [
    {
     "data": {
      "text/plain": "Index(['query', 'taxonomy.tax_id', 'taxonomy.organism_name',\n       'taxonomy.common_name', 'taxonomy.lineage', 'taxonomy.children',\n       'taxonomy.descendent_with_described_species_names_count',\n       'taxonomy.rank', 'taxonomy.has_described_species_name',\n       'taxonomy.counts'],\n      dtype='object')"
     },
     "execution_count": 15,
     "metadata": {},
     "output_type": "execute_result"
    }
   ],
   "source": [
    "df.columns"
   ],
   "metadata": {
    "collapsed": false,
    "ExecuteTime": {
     "end_time": "2023-11-28T16:18:08.734955Z",
     "start_time": "2023-11-28T16:18:08.724017Z"
    }
   },
   "id": "42430401e6d802a"
  },
  {
   "cell_type": "code",
   "execution_count": 9,
   "outputs": [],
   "source": [
    "from great_expectations.data_context import BaseDataContext\n",
    "from great_expectations.data_context.types.base import DataContextConfig, DatasourceConfig, AnonymizedUsageStatisticsConfig\n",
    "from great_expectations.dataset import PandasDataset\n",
    "import great_expectations as gx"
   ],
   "metadata": {
    "collapsed": false,
    "ExecuteTime": {
     "end_time": "2023-11-30T13:20:37.317032Z",
     "start_time": "2023-11-30T13:20:34.719731Z"
    }
   },
   "id": "89993c2db4c98d70"
  },
  {
   "cell_type": "code",
   "execution_count": 10,
   "outputs": [],
   "source": [
    "context = gx.get_context(\n",
    "    DataContextConfig(\n",
    "        datasources={\n",
    "            \"pandas_datasource\": DatasourceConfig(\n",
    "                class_name=\"PandasDatasource\"                \n",
    "            )\n",
    "        },\n",
    "        stores={\n",
    "            \"expectations_store\": {\n",
    "                \"class_name\": \"ExpectationsStore\",\n",
    "                \"store_backend\": {\n",
    "                    \"class_name\": \"TupleFilesystemStoreBackend\",\n",
    "                    \"base_directory\": \"/Volumes/GeekFoxLab/Projetos/Pawprint/config/expectations\",\n",
    "                }\n",
    "            }\n",
    "        },\n",
    "        expectations_store_name=\"expectations_store\",\n",
    "    )\n",
    ")"
   ],
   "metadata": {
    "collapsed": false,
    "ExecuteTime": {
     "end_time": "2023-11-30T13:20:37.337760Z",
     "start_time": "2023-11-30T13:20:37.318220Z"
    }
   },
   "id": "bc47ea5c95e9b414"
  },
  {
   "cell_type": "code",
   "execution_count": 11,
   "outputs": [],
   "source": [
    "suite = context.get_expectation_suite('taxonomy.taxonomy')"
   ],
   "metadata": {
    "collapsed": false,
    "ExecuteTime": {
     "end_time": "2023-11-30T13:20:37.353726Z",
     "start_time": "2023-11-30T13:20:37.338179Z"
    }
   },
   "id": "bdcf90121201c7f7"
  },
  {
   "cell_type": "code",
   "execution_count": 12,
   "outputs": [
    {
     "data": {
      "text/plain": "{\n  \"success\": false,\n  \"results\": [\n    {\n      \"success\": false,\n      \"expectation_config\": {\n        \"expectation_type\": \"expect_table_columns_to_match_ordered_list\",\n        \"kwargs\": {\n          \"column_list\": [\n            \"query\",\n            \"taxonomy.tax_id\",\n            \"taxonomy.organism_name\",\n            \"taxonomy.common_name\",\n            \"taxonomy.lineage\",\n            \"taxonomy.children\",\n            \"taxonomy.descendent_with_described_species_names_count\",\n            \"taxonomy.rank\",\n            \"taxonomy.has_described_species_name\",\n            \"taxonomy.counts\"\n          ]\n        },\n        \"meta\": {}\n      },\n      \"result\": {\n        \"observed_value\": [\n          \"query\",\n          \"taxonomy.tax_id\",\n          \"taxonomy.organism_name\",\n          \"taxonomy.lineage\",\n          \"taxonomy.rank\",\n          \"taxonomy.has_described_species_name\",\n          \"taxonomy.common_name\",\n          \"taxonomy.children\",\n          \"taxonomy.descendent_with_described_species_names_count\",\n          \"taxonomy.counts\"\n        ],\n        \"details\": {\n          \"mismatched\": [\n            {\n              \"Expected Column Position\": 3,\n              \"Expected\": \"taxonomy.common_name\",\n              \"Found\": \"taxonomy.lineage\"\n            },\n            {\n              \"Expected Column Position\": 4,\n              \"Expected\": \"taxonomy.lineage\",\n              \"Found\": \"taxonomy.rank\"\n            },\n            {\n              \"Expected Column Position\": 5,\n              \"Expected\": \"taxonomy.children\",\n              \"Found\": \"taxonomy.has_described_species_name\"\n            },\n            {\n              \"Expected Column Position\": 6,\n              \"Expected\": \"taxonomy.descendent_with_described_species_names_count\",\n              \"Found\": \"taxonomy.common_name\"\n            },\n            {\n              \"Expected Column Position\": 7,\n              \"Expected\": \"taxonomy.rank\",\n              \"Found\": \"taxonomy.children\"\n            },\n            {\n              \"Expected Column Position\": 8,\n              \"Expected\": \"taxonomy.has_described_species_name\",\n              \"Found\": \"taxonomy.descendent_with_described_species_names_count\"\n            }\n          ]\n        }\n      },\n      \"meta\": {},\n      \"exception_info\": {\n        \"raised_exception\": false,\n        \"exception_message\": null,\n        \"exception_traceback\": null\n      }\n    },\n    {\n      \"success\": true,\n      \"expectation_config\": {\n        \"expectation_type\": \"expect_column_values_to_be_of_type\",\n        \"kwargs\": {\n          \"column\": \"query\",\n          \"type_\": \"list\"\n        },\n        \"meta\": {}\n      },\n      \"result\": {\n        \"element_count\": 944,\n        \"missing_count\": 0,\n        \"missing_percent\": 0.0,\n        \"unexpected_count\": 0,\n        \"unexpected_percent\": 0.0,\n        \"unexpected_percent_total\": 0.0,\n        \"unexpected_percent_nonmissing\": 0.0,\n        \"partial_unexpected_list\": []\n      },\n      \"meta\": {},\n      \"exception_info\": {\n        \"raised_exception\": false,\n        \"exception_message\": null,\n        \"exception_traceback\": null\n      }\n    },\n    {\n      \"success\": true,\n      \"expectation_config\": {\n        \"expectation_type\": \"expect_column_values_to_be_of_type\",\n        \"kwargs\": {\n          \"column\": \"taxonomy.tax_id\",\n          \"type_\": \"long\"\n        },\n        \"meta\": {}\n      },\n      \"result\": {\n        \"observed_value\": \"int64\"\n      },\n      \"meta\": {},\n      \"exception_info\": {\n        \"raised_exception\": false,\n        \"exception_message\": null,\n        \"exception_traceback\": null\n      }\n    },\n    {\n      \"success\": true,\n      \"expectation_config\": {\n        \"expectation_type\": \"expect_column_values_to_be_of_type\",\n        \"kwargs\": {\n          \"column\": \"taxonomy.organism_name\",\n          \"type_\": \"str\"\n        },\n        \"meta\": {}\n      },\n      \"result\": {\n        \"element_count\": 944,\n        \"missing_count\": 0,\n        \"missing_percent\": 0.0,\n        \"unexpected_count\": 0,\n        \"unexpected_percent\": 0.0,\n        \"unexpected_percent_total\": 0.0,\n        \"unexpected_percent_nonmissing\": 0.0,\n        \"partial_unexpected_list\": []\n      },\n      \"meta\": {},\n      \"exception_info\": {\n        \"raised_exception\": false,\n        \"exception_message\": null,\n        \"exception_traceback\": null\n      }\n    },\n    {\n      \"success\": true,\n      \"expectation_config\": {\n        \"expectation_type\": \"expect_column_values_to_be_of_type\",\n        \"kwargs\": {\n          \"column\": \"taxonomy.common_name\",\n          \"type_\": \"str\"\n        },\n        \"meta\": {}\n      },\n      \"result\": {\n        \"element_count\": 944,\n        \"missing_count\": 528,\n        \"missing_percent\": 55.932203389830505,\n        \"unexpected_count\": 0,\n        \"unexpected_percent\": 0.0,\n        \"unexpected_percent_total\": 0.0,\n        \"unexpected_percent_nonmissing\": 0.0,\n        \"partial_unexpected_list\": []\n      },\n      \"meta\": {},\n      \"exception_info\": {\n        \"raised_exception\": false,\n        \"exception_message\": null,\n        \"exception_traceback\": null\n      }\n    },\n    {\n      \"success\": true,\n      \"expectation_config\": {\n        \"expectation_type\": \"expect_column_values_to_be_of_type\",\n        \"kwargs\": {\n          \"column\": \"taxonomy.lineage\",\n          \"type_\": \"list\"\n        },\n        \"meta\": {}\n      },\n      \"result\": {\n        \"element_count\": 944,\n        \"missing_count\": 0,\n        \"missing_percent\": 0.0,\n        \"unexpected_count\": 0,\n        \"unexpected_percent\": 0.0,\n        \"unexpected_percent_total\": 0.0,\n        \"unexpected_percent_nonmissing\": 0.0,\n        \"partial_unexpected_list\": []\n      },\n      \"meta\": {},\n      \"exception_info\": {\n        \"raised_exception\": false,\n        \"exception_message\": null,\n        \"exception_traceback\": null\n      }\n    },\n    {\n      \"success\": true,\n      \"expectation_config\": {\n        \"expectation_type\": \"expect_column_values_to_be_of_type\",\n        \"kwargs\": {\n          \"column\": \"taxonomy.children\",\n          \"type_\": \"list\"\n        },\n        \"meta\": {}\n      },\n      \"result\": {\n        \"element_count\": 944,\n        \"missing_count\": 880,\n        \"missing_percent\": 93.22033898305084,\n        \"unexpected_count\": 0,\n        \"unexpected_percent\": 0.0,\n        \"unexpected_percent_total\": 0.0,\n        \"unexpected_percent_nonmissing\": 0.0,\n        \"partial_unexpected_list\": []\n      },\n      \"meta\": {},\n      \"exception_info\": {\n        \"raised_exception\": false,\n        \"exception_message\": null,\n        \"exception_traceback\": null\n      }\n    },\n    {\n      \"success\": true,\n      \"expectation_config\": {\n        \"expectation_type\": \"expect_column_values_to_be_of_type\",\n        \"kwargs\": {\n          \"column\": \"taxonomy.descendent_with_described_species_names_count\",\n          \"type_\": \"float\"\n        },\n        \"meta\": {}\n      },\n      \"result\": {\n        \"observed_value\": \"float64\"\n      },\n      \"meta\": {},\n      \"exception_info\": {\n        \"raised_exception\": false,\n        \"exception_message\": null,\n        \"exception_traceback\": null\n      }\n    },\n    {\n      \"success\": true,\n      \"expectation_config\": {\n        \"expectation_type\": \"expect_column_values_to_be_of_type\",\n        \"kwargs\": {\n          \"column\": \"taxonomy.rank\",\n          \"type_\": \"str\"\n        },\n        \"meta\": {}\n      },\n      \"result\": {\n        \"element_count\": 944,\n        \"missing_count\": 0,\n        \"missing_percent\": 0.0,\n        \"unexpected_count\": 0,\n        \"unexpected_percent\": 0.0,\n        \"unexpected_percent_total\": 0.0,\n        \"unexpected_percent_nonmissing\": 0.0,\n        \"partial_unexpected_list\": []\n      },\n      \"meta\": {},\n      \"exception_info\": {\n        \"raised_exception\": false,\n        \"exception_message\": null,\n        \"exception_traceback\": null\n      }\n    },\n    {\n      \"success\": true,\n      \"expectation_config\": {\n        \"expectation_type\": \"expect_column_values_to_be_of_type\",\n        \"kwargs\": {\n          \"column\": \"taxonomy.has_described_species_name\",\n          \"type_\": \"bool\"\n        },\n        \"meta\": {}\n      },\n      \"result\": {\n        \"element_count\": 944,\n        \"missing_count\": 206,\n        \"missing_percent\": 21.822033898305087,\n        \"unexpected_count\": 0,\n        \"unexpected_percent\": 0.0,\n        \"unexpected_percent_total\": 0.0,\n        \"unexpected_percent_nonmissing\": 0.0,\n        \"partial_unexpected_list\": []\n      },\n      \"meta\": {},\n      \"exception_info\": {\n        \"raised_exception\": false,\n        \"exception_message\": null,\n        \"exception_traceback\": null\n      }\n    },\n    {\n      \"success\": true,\n      \"expectation_config\": {\n        \"expectation_type\": \"expect_column_values_to_be_of_type\",\n        \"kwargs\": {\n          \"column\": \"taxonomy.counts\",\n          \"type_\": \"list\"\n        },\n        \"meta\": {}\n      },\n      \"result\": {\n        \"element_count\": 944,\n        \"missing_count\": 821,\n        \"missing_percent\": 86.97033898305084,\n        \"unexpected_count\": 0,\n        \"unexpected_percent\": 0.0,\n        \"unexpected_percent_total\": 0.0,\n        \"unexpected_percent_nonmissing\": 0.0,\n        \"partial_unexpected_list\": []\n      },\n      \"meta\": {},\n      \"exception_info\": {\n        \"raised_exception\": false,\n        \"exception_message\": null,\n        \"exception_traceback\": null\n      }\n    }\n  ],\n  \"evaluation_parameters\": {},\n  \"statistics\": {\n    \"evaluated_expectations\": 11,\n    \"successful_expectations\": 10,\n    \"unsuccessful_expectations\": 1,\n    \"success_percent\": 90.9090909090909\n  },\n  \"meta\": {\n    \"great_expectations_version\": \"0.18.3\",\n    \"expectation_suite_name\": \"taxonomy.taxonomy\",\n    \"run_id\": {\n      \"run_name\": null,\n      \"run_time\": \"2023-11-30T10:20:37.341701-03:00\"\n    },\n    \"batch_kwargs\": {\n      \"ge_batch_id\": \"40111366-8f83-11ee-90f3-ae6c8bb8ddd3\"\n    },\n    \"batch_markers\": {},\n    \"batch_parameters\": {},\n    \"validation_time\": \"20231130T132037.341658Z\",\n    \"expectation_suite_meta\": {\n      \"great_expectations_version\": \"0.15.19\",\n      \"data_asset_type\": \"Dataset\"\n    }\n  }\n}"
     },
     "execution_count": 12,
     "metadata": {},
     "output_type": "execute_result"
    }
   ],
   "source": [
    "batch = PandasDataset(df, expectation_suite=suite)\n",
    "results = batch.validate()\n",
    "results"
   ],
   "metadata": {
    "collapsed": false,
    "ExecuteTime": {
     "end_time": "2023-11-30T13:20:37.354400Z",
     "start_time": "2023-11-30T13:20:37.344606Z"
    }
   },
   "id": "75c10d1e5803ec93"
  },
  {
   "cell_type": "code",
   "execution_count": null,
   "outputs": [],
   "source": [],
   "metadata": {
    "collapsed": false
   },
   "id": "b3c5c6b957f056b7"
  }
 ],
 "metadata": {
  "kernelspec": {
   "display_name": "Python 3",
   "language": "python",
   "name": "python3"
  },
  "language_info": {
   "codemirror_mode": {
    "name": "ipython",
    "version": 2
   },
   "file_extension": ".py",
   "mimetype": "text/x-python",
   "name": "python",
   "nbconvert_exporter": "python",
   "pygments_lexer": "ipython2",
   "version": "2.7.6"
  }
 },
 "nbformat": 4,
 "nbformat_minor": 5
}

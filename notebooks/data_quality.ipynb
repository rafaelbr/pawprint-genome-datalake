{
 "cells": [
  {
   "cell_type": "code",
   "execution_count": 10,
   "id": "initial_id",
   "metadata": {
    "collapsed": true,
    "ExecuteTime": {
     "end_time": "2024-01-05T16:41:13.169102Z",
     "start_time": "2024-01-05T16:41:13.156354Z"
    }
   },
   "outputs": [],
   "source": [
    "import jsonschema\n",
    "import jsonpointer\n",
    "import json\n",
    "import awswrangler as wr\n",
    "import boto3"
   ]
  },
  {
   "cell_type": "code",
   "execution_count": 3,
   "outputs": [],
   "source": [
    "boto3.setup_default_session(profile_name='pawprint')"
   ],
   "metadata": {
    "collapsed": false,
    "ExecuteTime": {
     "end_time": "2024-01-05T16:38:18.495317Z",
     "start_time": "2024-01-05T16:38:18.486913Z"
    }
   },
   "id": "602efa4beb13a50"
  },
  {
   "cell_type": "code",
   "execution_count": 4,
   "outputs": [],
   "source": [
    "df = wr.s3.read_json('s3://pawprint-raw/genome/dataset_reports/date=2023-11-28/', lines=True)"
   ],
   "metadata": {
    "collapsed": false,
    "ExecuteTime": {
     "end_time": "2024-01-05T16:38:27.824095Z",
     "start_time": "2024-01-05T16:38:25.578683Z"
    }
   },
   "id": "5b027a00f01eefe3"
  },
  {
   "cell_type": "code",
   "execution_count": 5,
   "outputs": [
    {
     "data": {
      "text/plain": "                                             reports  total_count\n0  [{'accession': 'GCA_014108235.1', 'current_acc...            5\n0  [{'accession': 'GCA_903992545.1', 'current_acc...           10\n0  [{'accession': 'GCA_030015415.1', 'current_acc...           12\n0  [{'accession': 'GCA_027574615.1', 'current_acc...           14\n0  [{'accession': 'GCA_003508835.1', 'current_acc...            2",
      "text/html": "<div>\n<style scoped>\n    .dataframe tbody tr th:only-of-type {\n        vertical-align: middle;\n    }\n\n    .dataframe tbody tr th {\n        vertical-align: top;\n    }\n\n    .dataframe thead th {\n        text-align: right;\n    }\n</style>\n<table border=\"1\" class=\"dataframe\">\n  <thead>\n    <tr style=\"text-align: right;\">\n      <th></th>\n      <th>reports</th>\n      <th>total_count</th>\n    </tr>\n  </thead>\n  <tbody>\n    <tr>\n      <th>0</th>\n      <td>[{'accession': 'GCA_014108235.1', 'current_acc...</td>\n      <td>5</td>\n    </tr>\n    <tr>\n      <th>0</th>\n      <td>[{'accession': 'GCA_903992545.1', 'current_acc...</td>\n      <td>10</td>\n    </tr>\n    <tr>\n      <th>0</th>\n      <td>[{'accession': 'GCA_030015415.1', 'current_acc...</td>\n      <td>12</td>\n    </tr>\n    <tr>\n      <th>0</th>\n      <td>[{'accession': 'GCA_027574615.1', 'current_acc...</td>\n      <td>14</td>\n    </tr>\n    <tr>\n      <th>0</th>\n      <td>[{'accession': 'GCA_003508835.1', 'current_acc...</td>\n      <td>2</td>\n    </tr>\n  </tbody>\n</table>\n</div>"
     },
     "execution_count": 5,
     "metadata": {},
     "output_type": "execute_result"
    }
   ],
   "source": [
    "df.head()"
   ],
   "metadata": {
    "collapsed": false,
    "ExecuteTime": {
     "end_time": "2024-01-05T16:38:40.718051Z",
     "start_time": "2024-01-05T16:38:40.690539Z"
    }
   },
   "id": "56b0c27c887de895"
  },
  {
   "cell_type": "code",
   "execution_count": 6,
   "outputs": [],
   "source": [
    "final_list = []\n",
    "for i in df['reports']:\n",
    "    final_list.extend(i)"
   ],
   "metadata": {
    "collapsed": false,
    "ExecuteTime": {
     "end_time": "2024-01-05T16:38:59.981836Z",
     "start_time": "2024-01-05T16:38:59.978273Z"
    }
   },
   "id": "92dcdcd4c17945a9"
  },
  {
   "cell_type": "code",
   "execution_count": 35,
   "outputs": [],
   "source": [
    "def fill_missing_fields(data, schema):\n",
    "    for field_name, field_schema in schema.get('properties', {}).items():\n",
    "        print('processing field', field_name)\n",
    "        if field_schema.get(\"type\") == \"object\":\n",
    "            print('processing object', field_schema)\n",
    "            # Recursively handle nested fields\n",
    "            try:\n",
    "                nested_data = jsonpointer.resolve_pointer(data, f\"/{field_name}\")\n",
    "            except:\n",
    "                nested_data = {}  # Create the nested object if missing\n",
    "            nested_data = fill_missing_fields(nested_data, field_schema)\n",
    "            jsonpointer.set_pointer(data, f\"/{field_name}\", nested_data)\n",
    "        elif field_schema.get(\"type\") == \"array\":\n",
    "            # Recursively handle nested fields\n",
    "            try:\n",
    "                nested_data = jsonpointer.resolve_pointer(data, f\"/{field_name}\")\n",
    "            except:\n",
    "                nested_data = []  # Create the nested object if missing\n",
    "            for i in range(len(nested_data)):\n",
    "                nested_data[i] = fill_missing_fields(nested_data[i], field_schema.get(\"items\"))\n",
    "            jsonpointer.set_pointer(data, f\"/{field_name}\", nested_data)\n",
    "        else:\n",
    "            if field_name not in data:\n",
    "                jsonpointer.set_pointer(data, f\"/{field_name}\", None)\n",
    "\n",
    "    return data"
   ],
   "metadata": {
    "collapsed": false,
    "ExecuteTime": {
     "end_time": "2024-01-05T17:12:09.261838Z",
     "start_time": "2024-01-05T17:12:09.227Z"
    }
   },
   "id": "bf3682489188b229"
  },
  {
   "cell_type": "code",
   "execution_count": 27,
   "outputs": [],
   "source": [
    "record = final_list[0]"
   ],
   "metadata": {
    "collapsed": false,
    "ExecuteTime": {
     "end_time": "2024-01-05T17:06:05.798647Z",
     "start_time": "2024-01-05T17:06:05.779962Z"
    }
   },
   "id": "58810e6486ae3a28"
  },
  {
   "cell_type": "code",
   "execution_count": 42,
   "outputs": [],
   "source": [
    "with open('../config/schemas/genome_schema.json') as f:\n",
    "    schema = json.load(f)"
   ],
   "metadata": {
    "collapsed": false,
    "ExecuteTime": {
     "end_time": "2024-01-05T17:27:48.051787Z",
     "start_time": "2024-01-05T17:27:48.031229Z"
    }
   },
   "id": "3b1e92bcc50f8405"
  },
  {
   "cell_type": "code",
   "execution_count": 43,
   "outputs": [
    {
     "name": "stdout",
     "output_type": "stream",
     "text": [
      "processing field accession\n",
      "processing field current_accession\n",
      "processing field paired_accession\n",
      "processing field source_database\n",
      "processing field organism\n",
      "processing object {'type': 'object', 'properties': {'tax_id': {'type': 'integer'}, 'sci_name': {'type': 'string'}, 'organism_name': {'type': 'string'}, 'common_name': {'type': 'string'}, 'lineage': {'type': 'array', 'items': {'type': 'object', 'properties': {'tax_id': {'type': 'integer'}, 'name': {'type': 'string'}}}}, 'strain': {'type': 'string'}, 'pangolin_classification': {'type': 'string'}, 'infraspecific_names': {'type': 'object', 'properties': {'breed': {'type': 'string'}, 'cultivar': {'type': 'string'}, 'ecotype': {'type': 'string'}, 'isolate': {'type': 'string'}, 'sex': {'type': 'string'}, 'strain': {'type': 'string'}}}}}\n",
      "processing field tax_id\n",
      "processing field sci_name\n",
      "processing field organism_name\n",
      "processing field common_name\n",
      "processing field lineage\n",
      "processing field strain\n",
      "processing field pangolin_classification\n",
      "processing field infraspecific_names\n",
      "processing object {'type': 'object', 'properties': {'breed': {'type': 'string'}, 'cultivar': {'type': 'string'}, 'ecotype': {'type': 'string'}, 'isolate': {'type': 'string'}, 'sex': {'type': 'string'}, 'strain': {'type': 'string'}}}\n",
      "processing field breed\n",
      "processing field cultivar\n",
      "processing field ecotype\n",
      "processing field isolate\n",
      "processing field sex\n",
      "processing field strain\n",
      "processing field assembly_info\n",
      "processing object {'type': 'object', 'properties': {'assembly_level': {'type': 'string'}, 'assembly_status': {'type': 'string'}, 'paired_assembly': {'type': 'object', 'properties': {'accession': {'type': 'string'}, 'status': {'type': 'string'}, 'annotation_name': {'type': 'string'}, 'only_genbank': {'type': 'string'}, 'only_refseq': {'type': 'string'}, 'changed': {'type': 'string'}, 'manual_diff': {'type': 'string'}}}, 'assembly_name': {'type': 'string'}, 'assembly_type': {'type': 'string'}, 'bioproject_lineage': {'type': 'array', 'items': {'type': 'object', 'properties': {'bioprojects': {'type': 'array', 'items': {'type': 'object', 'properties': {'accession': {'type': 'string'}, 'title': {'type': 'string'}, 'parent_accession': {'type': 'string'}, 'parent_accessions': {'type': 'array', 'items': {'type': 'string'}}}}}}}}, 'bioproject_accession': {'type': 'string'}, 'submission_date': {'type': 'string'}, 'release_date': {'type': 'string'}, 'description': {'type': 'string'}, 'submitter': {'type': 'string'}, 'refseq_category': {'type': 'string'}, 'synonym': {'type': 'string'}, 'linked_assembly': {'type': 'string'}, 'linked_assemblies': {'type': 'array', 'items': {'type': 'object', 'properties': {'linked_assembly': {'type': 'string'}, 'assembly_type': {'type': 'string'}}}}, 'atypical': {'type': 'object', 'properties': {'is_atypical': {'type': 'boolean'}, 'warnings': {'type': 'array', 'items': {'type': 'string'}}}}, 'genome_notes': {'type': 'array', 'items': {'type': 'string'}}, 'sequencing_tech': {'type': 'string'}, 'assembly_method': {'type': 'string'}, 'biosample': {'type': 'object', 'properties': {'accession': {'type': 'string'}, 'last_updated': {'type': 'string'}, 'publication_date': {'type': 'string'}, 'submission_date': {'type': 'string'}, 'sample_ids': {'type': 'array', 'items': {'type': 'object', 'properties': {'db': {'type': 'string'}, 'label': {'type': 'string'}, 'value': {'type': 'string'}}}}, 'description': {'type': 'object', 'properties': {'title': {'type': 'string'}, 'organism': {'type': 'object', 'properties': {'tax_id': {'type': 'integer'}, 'sci_name': {'type': 'string'}, 'organism_name': {'type': 'string'}, 'common_name': {'type': 'string'}, 'lineage': {'type': 'array', 'items': {'type': 'object', 'properties': {'tax_id': {'type': 'integer'}, 'name': {'type': 'string'}}}}, 'strain': {'type': 'string'}, 'pangolin_classification': {'type': 'string'}, 'infraspecific_names': {'type': 'object', 'properties': {'breed': {'type': 'string'}, 'cultivar': {'type': 'string'}, 'ecotype': {'type': 'string'}, 'isolate': {'type': 'string'}, 'sex': {'type': 'string'}, 'strain': {'type': 'string'}}}}}, 'comment': {'type': 'string'}}}, 'owner': {'type': 'object', 'properties': {'name': {'type': 'string'}, 'contacts': {'type': 'array', 'items': {'type': 'object', 'properties': {'lab': {'type': 'string'}}}}}}, 'models': {'type': 'array', 'items': {'type': 'string'}}, 'bioprojects': {'type': 'array', 'items': {'type': 'object', 'properties': {'accession': {'type': 'string'}, 'title': {'type': 'string'}, 'parent_accession': {'type': 'string'}, 'parent_accessions': {'type': 'array', 'items': {'type': 'string'}}}}}, 'package': {'type': 'string'}, 'attributes': {'type': 'array', 'items': {'type': 'object', 'properties': {'name': {'type': 'string'}, 'value': {'type': 'string'}}}}, 'status': {'type': 'object', 'properties': {'status': {'type': 'string'}, 'when': {'type': 'string'}}}}}, 'blast_url': {'type': 'string'}, 'comments': {'type': 'string'}, 'suppression_reason': {'type': 'string'}, 'diploid_role': {'type': 'string'}}}\n",
      "processing field assembly_level\n",
      "processing field assembly_status\n",
      "processing field paired_assembly\n",
      "processing object {'type': 'object', 'properties': {'accession': {'type': 'string'}, 'status': {'type': 'string'}, 'annotation_name': {'type': 'string'}, 'only_genbank': {'type': 'string'}, 'only_refseq': {'type': 'string'}, 'changed': {'type': 'string'}, 'manual_diff': {'type': 'string'}}}\n",
      "processing field accession\n",
      "processing field status\n",
      "processing field annotation_name\n",
      "processing field only_genbank\n",
      "processing field only_refseq\n",
      "processing field changed\n",
      "processing field manual_diff\n",
      "processing field assembly_name\n",
      "processing field assembly_type\n",
      "processing field bioproject_lineage\n",
      "processing field bioprojects\n",
      "processing field accession\n",
      "processing field title\n",
      "processing field parent_accession\n",
      "processing field parent_accessions\n",
      "processing field accession\n",
      "processing field title\n",
      "processing field parent_accession\n",
      "processing field parent_accessions\n",
      "processing field accession\n",
      "processing field title\n",
      "processing field parent_accession\n",
      "processing field parent_accessions\n",
      "processing field accession\n",
      "processing field title\n",
      "processing field parent_accession\n",
      "processing field parent_accessions\n",
      "processing field accession\n",
      "processing field title\n",
      "processing field parent_accession\n",
      "processing field parent_accessions\n",
      "processing field accession\n",
      "processing field title\n",
      "processing field parent_accession\n",
      "processing field parent_accessions\n",
      "processing field bioproject_accession\n",
      "processing field submission_date\n",
      "processing field release_date\n",
      "processing field description\n",
      "processing field submitter\n",
      "processing field refseq_category\n",
      "processing field synonym\n",
      "processing field linked_assembly\n",
      "processing field linked_assemblies\n",
      "processing field atypical\n",
      "processing object {'type': 'object', 'properties': {'is_atypical': {'type': 'boolean'}, 'warnings': {'type': 'array', 'items': {'type': 'string'}}}}\n",
      "processing field is_atypical\n",
      "processing field warnings\n",
      "processing field genome_notes\n",
      "processing field sequencing_tech\n",
      "processing field assembly_method\n",
      "processing field biosample\n",
      "processing object {'type': 'object', 'properties': {'accession': {'type': 'string'}, 'last_updated': {'type': 'string'}, 'publication_date': {'type': 'string'}, 'submission_date': {'type': 'string'}, 'sample_ids': {'type': 'array', 'items': {'type': 'object', 'properties': {'db': {'type': 'string'}, 'label': {'type': 'string'}, 'value': {'type': 'string'}}}}, 'description': {'type': 'object', 'properties': {'title': {'type': 'string'}, 'organism': {'type': 'object', 'properties': {'tax_id': {'type': 'integer'}, 'sci_name': {'type': 'string'}, 'organism_name': {'type': 'string'}, 'common_name': {'type': 'string'}, 'lineage': {'type': 'array', 'items': {'type': 'object', 'properties': {'tax_id': {'type': 'integer'}, 'name': {'type': 'string'}}}}, 'strain': {'type': 'string'}, 'pangolin_classification': {'type': 'string'}, 'infraspecific_names': {'type': 'object', 'properties': {'breed': {'type': 'string'}, 'cultivar': {'type': 'string'}, 'ecotype': {'type': 'string'}, 'isolate': {'type': 'string'}, 'sex': {'type': 'string'}, 'strain': {'type': 'string'}}}}}, 'comment': {'type': 'string'}}}, 'owner': {'type': 'object', 'properties': {'name': {'type': 'string'}, 'contacts': {'type': 'array', 'items': {'type': 'object', 'properties': {'lab': {'type': 'string'}}}}}}, 'models': {'type': 'array', 'items': {'type': 'string'}}, 'bioprojects': {'type': 'array', 'items': {'type': 'object', 'properties': {'accession': {'type': 'string'}, 'title': {'type': 'string'}, 'parent_accession': {'type': 'string'}, 'parent_accessions': {'type': 'array', 'items': {'type': 'string'}}}}}, 'package': {'type': 'string'}, 'attributes': {'type': 'array', 'items': {'type': 'object', 'properties': {'name': {'type': 'string'}, 'value': {'type': 'string'}}}}, 'status': {'type': 'object', 'properties': {'status': {'type': 'string'}, 'when': {'type': 'string'}}}}}\n",
      "processing field accession\n",
      "processing field last_updated\n",
      "processing field publication_date\n",
      "processing field submission_date\n",
      "processing field sample_ids\n",
      "processing field db\n",
      "processing field label\n",
      "processing field value\n",
      "processing field db\n",
      "processing field label\n",
      "processing field value\n",
      "processing field description\n",
      "processing object {'type': 'object', 'properties': {'title': {'type': 'string'}, 'organism': {'type': 'object', 'properties': {'tax_id': {'type': 'integer'}, 'sci_name': {'type': 'string'}, 'organism_name': {'type': 'string'}, 'common_name': {'type': 'string'}, 'lineage': {'type': 'array', 'items': {'type': 'object', 'properties': {'tax_id': {'type': 'integer'}, 'name': {'type': 'string'}}}}, 'strain': {'type': 'string'}, 'pangolin_classification': {'type': 'string'}, 'infraspecific_names': {'type': 'object', 'properties': {'breed': {'type': 'string'}, 'cultivar': {'type': 'string'}, 'ecotype': {'type': 'string'}, 'isolate': {'type': 'string'}, 'sex': {'type': 'string'}, 'strain': {'type': 'string'}}}}}, 'comment': {'type': 'string'}}}\n",
      "processing field title\n",
      "processing field organism\n",
      "processing object {'type': 'object', 'properties': {'tax_id': {'type': 'integer'}, 'sci_name': {'type': 'string'}, 'organism_name': {'type': 'string'}, 'common_name': {'type': 'string'}, 'lineage': {'type': 'array', 'items': {'type': 'object', 'properties': {'tax_id': {'type': 'integer'}, 'name': {'type': 'string'}}}}, 'strain': {'type': 'string'}, 'pangolin_classification': {'type': 'string'}, 'infraspecific_names': {'type': 'object', 'properties': {'breed': {'type': 'string'}, 'cultivar': {'type': 'string'}, 'ecotype': {'type': 'string'}, 'isolate': {'type': 'string'}, 'sex': {'type': 'string'}, 'strain': {'type': 'string'}}}}}\n",
      "processing field tax_id\n",
      "processing field sci_name\n",
      "processing field organism_name\n",
      "processing field common_name\n",
      "processing field lineage\n",
      "processing field strain\n",
      "processing field pangolin_classification\n",
      "processing field infraspecific_names\n",
      "processing object {'type': 'object', 'properties': {'breed': {'type': 'string'}, 'cultivar': {'type': 'string'}, 'ecotype': {'type': 'string'}, 'isolate': {'type': 'string'}, 'sex': {'type': 'string'}, 'strain': {'type': 'string'}}}\n",
      "processing field breed\n",
      "processing field cultivar\n",
      "processing field ecotype\n",
      "processing field isolate\n",
      "processing field sex\n",
      "processing field strain\n",
      "processing field comment\n",
      "processing field owner\n",
      "processing object {'type': 'object', 'properties': {'name': {'type': 'string'}, 'contacts': {'type': 'array', 'items': {'type': 'object', 'properties': {'lab': {'type': 'string'}}}}}}\n",
      "processing field name\n",
      "processing field contacts\n",
      "processing field lab\n",
      "processing field models\n",
      "processing field bioprojects\n",
      "processing field accession\n",
      "processing field title\n",
      "processing field parent_accession\n",
      "processing field parent_accessions\n",
      "processing field package\n",
      "processing field attributes\n",
      "processing field name\n",
      "processing field value\n",
      "processing field name\n",
      "processing field value\n",
      "processing field name\n",
      "processing field value\n",
      "processing field name\n",
      "processing field value\n",
      "processing field name\n",
      "processing field value\n",
      "processing field name\n",
      "processing field value\n",
      "processing field name\n",
      "processing field value\n",
      "processing field name\n",
      "processing field value\n",
      "processing field name\n",
      "processing field value\n",
      "processing field name\n",
      "processing field value\n",
      "processing field name\n",
      "processing field value\n",
      "processing field status\n",
      "processing object {'type': 'object', 'properties': {'status': {'type': 'string'}, 'when': {'type': 'string'}}}\n",
      "processing field status\n",
      "processing field when\n",
      "processing field blast_url\n",
      "processing field comments\n",
      "processing field suppression_reason\n",
      "processing field diploid_role\n",
      "processing field assembly_stats\n",
      "processing object {'type': 'object', 'properties': {'total_number_of_chromosomes': {'type': 'integer'}, 'total_sequence_length': {'type': 'string'}, 'total_ungapped_length': {'type': 'string'}, 'number_of_contigs': {'type': 'integer'}, 'contig_n50': {'type': 'integer'}, 'contig_l50': {'type': 'integer'}, 'number_of_scaffolds': {'type': 'integer'}, 'scaffold_n50': {'type': 'integer'}, 'scaffold_l50': {'type': 'integer'}, 'gaps_between_scaffolds_count': {'type': 'integer'}, 'number_of_component_sequences': {'type': 'integer'}, 'gc_count': {'type': 'string'}, 'gc_percent': {'type': 'integer'}, 'genome_coverage': {'type': 'string'}, 'number_of_organelles': {'type': 'integer'}}}\n",
      "processing field total_number_of_chromosomes\n",
      "processing field total_sequence_length\n",
      "processing field total_ungapped_length\n",
      "processing field number_of_contigs\n",
      "processing field contig_n50\n",
      "processing field contig_l50\n",
      "processing field number_of_scaffolds\n",
      "processing field scaffold_n50\n",
      "processing field scaffold_l50\n",
      "processing field gaps_between_scaffolds_count\n",
      "processing field number_of_component_sequences\n",
      "processing field gc_count\n",
      "processing field gc_percent\n",
      "processing field genome_coverage\n",
      "processing field number_of_organelles\n",
      "processing field organelle_info\n",
      "processing field assembly_name\n",
      "processing field infraspecific_name\n",
      "processing field bioproject\n",
      "processing field description\n",
      "processing field total_seq_length\n",
      "processing field submitter\n",
      "processing field annotation_info\n",
      "processing object {'type': 'object', 'properties': {'name': {'type': 'string'}, 'provider': {'type': 'string'}, 'release_date': {'type': 'string'}, 'report_url': {'type': 'string'}, 'stats': {'type': 'object', 'properties': {'gene_counts': {'type': 'object', 'properties': {'total': {'type': 'integer'}, 'protein_coding': {'type': 'integer'}, 'non_coding': {'type': 'integer'}, 'pseudogene': {'type': 'integer'}, 'other': {'type': 'integer'}}}}}, 'busco': {'type': 'object', 'properties': {'busco_lineage': {'type': 'string'}, 'busco_ver': {'type': 'string'}, 'complete': {'type': 'integer'}, 'single_copy': {'type': 'integer'}, 'duplicated': {'type': 'integer'}, 'fragmented': {'type': 'integer'}, 'missing': {'type': 'integer'}, 'total_count': {'type': 'string'}}}, 'method': {'type': 'string'}, 'pipeline': {'type': 'string'}, 'software_version': {'type': 'string'}, 'status': {'type': 'string'}, 'release_version': {'type': 'string'}}}\n",
      "processing field name\n",
      "processing field provider\n",
      "processing field release_date\n",
      "processing field report_url\n",
      "processing field stats\n",
      "processing object {'type': 'object', 'properties': {'gene_counts': {'type': 'object', 'properties': {'total': {'type': 'integer'}, 'protein_coding': {'type': 'integer'}, 'non_coding': {'type': 'integer'}, 'pseudogene': {'type': 'integer'}, 'other': {'type': 'integer'}}}}}\n",
      "processing field gene_counts\n",
      "processing object {'type': 'object', 'properties': {'total': {'type': 'integer'}, 'protein_coding': {'type': 'integer'}, 'non_coding': {'type': 'integer'}, 'pseudogene': {'type': 'integer'}, 'other': {'type': 'integer'}}}\n",
      "processing field total\n",
      "processing field protein_coding\n",
      "processing field non_coding\n",
      "processing field pseudogene\n",
      "processing field other\n",
      "processing field busco\n",
      "processing object {'type': 'object', 'properties': {'busco_lineage': {'type': 'string'}, 'busco_ver': {'type': 'string'}, 'complete': {'type': 'integer'}, 'single_copy': {'type': 'integer'}, 'duplicated': {'type': 'integer'}, 'fragmented': {'type': 'integer'}, 'missing': {'type': 'integer'}, 'total_count': {'type': 'string'}}}\n",
      "processing field busco_lineage\n",
      "processing field busco_ver\n",
      "processing field complete\n",
      "processing field single_copy\n",
      "processing field duplicated\n",
      "processing field fragmented\n",
      "processing field missing\n",
      "processing field total_count\n",
      "processing field method\n",
      "processing field pipeline\n",
      "processing field software_version\n",
      "processing field status\n",
      "processing field release_version\n",
      "processing field wgs_info\n",
      "processing object {'type': 'object', 'properties': {'wgs_project_accession': {'type': 'string'}, 'master_wgs_url': {'type': 'string'}, 'wgs_contigs_url': {'type': 'string'}}}\n",
      "processing field wgs_project_accession\n",
      "processing field master_wgs_url\n",
      "processing field wgs_contigs_url\n",
      "processing field type_material\n",
      "processing object {'type': 'object', 'properties': {'type_label': {'type': 'string'}, 'type_display_text': {'type': 'string'}}}\n",
      "processing field type_label\n",
      "processing field type_display_text\n",
      "processing field checkm_info\n",
      "processing object {'type': 'object', 'properties': {'checkm_marker_set': {'type': 'string'}, 'checkm_species_tax_id': {'type': 'integer'}, 'checkm_marker_set_rank': {'type': 'string'}, 'checkm_version': {'type': 'string'}, 'completeness': {'type': 'integer'}, 'contamination': {'type': 'integer'}, 'completeness_percentile': {'type': 'integer'}}}\n",
      "processing field checkm_marker_set\n",
      "processing field checkm_species_tax_id\n",
      "processing field checkm_marker_set_rank\n",
      "processing field checkm_version\n",
      "processing field completeness\n",
      "processing field contamination\n",
      "processing field completeness_percentile\n",
      "processing field average_nucleotide_identity\n",
      "processing object {'type': 'object', 'properties': {'taxonomy_check_status': {'type': 'string'}, 'match_status': {'type': 'string'}, 'submitted_organism': {'type': 'string'}, 'submitted_species': {'type': 'string'}, 'category': {'type': 'string'}, 'submitted_ani_match': {'type': 'object', 'properties': {'assembly': {'type': 'string'}, 'organism_name': {'type': 'string'}, 'category': {'type': 'string'}, 'ani': {'type': 'integer'}, 'assembly_coverage': {'type': 'integer'}, 'type_assembly_coverage': {'type': 'integer'}}}, 'best_ani_match': {'type': 'object', 'properties': {'assembly': {'type': 'string'}, 'organism_name': {'type': 'string'}, 'category': {'type': 'string'}, 'ani': {'type': 'integer'}, 'assembly_coverage': {'type': 'integer'}, 'type_assembly_coverage': {'type': 'integer'}}}, 'comment': {'type': 'string'}}}\n",
      "processing field taxonomy_check_status\n",
      "processing field match_status\n",
      "processing field submitted_organism\n",
      "processing field submitted_species\n",
      "processing field category\n",
      "processing field submitted_ani_match\n",
      "processing object {'type': 'object', 'properties': {'assembly': {'type': 'string'}, 'organism_name': {'type': 'string'}, 'category': {'type': 'string'}, 'ani': {'type': 'integer'}, 'assembly_coverage': {'type': 'integer'}, 'type_assembly_coverage': {'type': 'integer'}}}\n",
      "processing field assembly\n",
      "processing field organism_name\n",
      "processing field category\n",
      "processing field ani\n",
      "processing field assembly_coverage\n",
      "processing field type_assembly_coverage\n",
      "processing field best_ani_match\n",
      "processing object {'type': 'object', 'properties': {'assembly': {'type': 'string'}, 'organism_name': {'type': 'string'}, 'category': {'type': 'string'}, 'ani': {'type': 'integer'}, 'assembly_coverage': {'type': 'integer'}, 'type_assembly_coverage': {'type': 'integer'}}}\n",
      "processing field assembly\n",
      "processing field organism_name\n",
      "processing field category\n",
      "processing field ani\n",
      "processing field assembly_coverage\n",
      "processing field type_assembly_coverage\n",
      "processing field comment\n"
     ]
    }
   ],
   "source": [
    "record_new = fill_missing_fields(record, schema)"
   ],
   "metadata": {
    "collapsed": false,
    "ExecuteTime": {
     "end_time": "2024-01-05T17:27:48.713009Z",
     "start_time": "2024-01-05T17:27:48.705453Z"
    }
   },
   "id": "2930d470b6e745e2"
  },
  {
   "cell_type": "code",
   "execution_count": 44,
   "outputs": [
    {
     "data": {
      "text/plain": "{'accession': 'GCA_014108235.1',\n 'current_accession': 'GCA_014108235.1',\n 'paired_accession': 'GCF_014108235.1',\n 'source_database': 'SOURCE_DATABASE_GENBANK',\n 'organism': {'tax_id': 51298,\n  'organism_name': 'Myotis myotis',\n  'infraspecific_names': {'isolate': 'mMyoMyo1',\n   'sex': 'female',\n   'breed': None,\n   'cultivar': None,\n   'ecotype': None,\n   'strain': None},\n  'sci_name': None,\n  'common_name': None,\n  'lineage': [],\n  'strain': None,\n  'pangolin_classification': None},\n 'assembly_info': {'assembly_level': 'Scaffold',\n  'assembly_status': 'current',\n  'paired_assembly': {'accession': 'GCF_014108235.1',\n   'status': 'current',\n   'annotation_name': 'NCBI Myotis myotis Annotation Release 100',\n   'changed': 'chromosome MT.',\n   'only_genbank': None,\n   'only_refseq': None,\n   'manual_diff': None},\n  'assembly_name': 'mMyoMyo1.p',\n  'assembly_type': 'haploid',\n  'bioproject_lineage': [{'bioprojects': [{'accession': 'PRJNA628559',\n      'title': 'Myotis myotis isolate:mMyoMyo1 Genome sequencing and assembly',\n      'parent_accessions': ['PRJNA489245', 'PRJNA674393'],\n      'parent_accession': None},\n     {'accession': 'PRJNA489245',\n      'title': 'Bat1K Project',\n      'parent_accessions': ['PRJNA533106'],\n      'parent_accession': None},\n     {'accession': 'PRJNA533106',\n      'title': 'Earth BioGenome Project (EBP)',\n      'parent_accession': None,\n      'parent_accessions': []},\n     {'accession': 'PRJNA674393',\n      'title': 'Myotis myotis Umbrella project',\n      'parent_accessions': ['PRJNA489243'],\n      'parent_accession': None},\n     {'accession': 'PRJNA489243',\n      'title': 'Vertebrate Genomes Project',\n      'parent_accessions': ['PRJNA533106'],\n      'parent_accession': None},\n     {'accession': 'PRJNA533106',\n      'title': 'Earth BioGenome Project (EBP)',\n      'parent_accession': None,\n      'parent_accessions': []}]}],\n  'bioproject_accession': 'PRJNA628559',\n  'release_date': '2020-08-13',\n  'submitter': 'Bat1K',\n  'sequencing_tech': 'PacBio Sequel CLR; 10X Genomics chromium linked reads; Bionano Genomics; Phase Genomics HiC; PacBio Sequel IsoSeq',\n  'assembly_method': 'DAmar v. APRIL-2019; Bionano Solve DLS v. 3.3; Salsa2 HiC v. git commit: e3ae7d8; GenomicConsensus v. git commit: 038de5c; longranger align v. 2.2.0; Freebayes v. 1.2.0; HiGlass manual curation v. 1.5',\n  'biosample': {'accession': 'SAMN14734277',\n   'last_updated': '2020-05-05T09:07:47.809',\n   'publication_date': '2020-04-27T00:00:00.000',\n   'submission_date': '2020-04-27T02:18:04.800',\n   'sample_ids': [{'label': 'Sample name',\n     'value': 'Myotis myotis (Greater mouse-eared bat) for Bat1K reference genome',\n     'db': None},\n    {'db': 'SRA', 'value': 'SRS6571162', 'label': None}],\n   'description': {'title': 'Animal sample from Myotis myotis',\n    'organism': {'tax_id': 51298,\n     'organism_name': 'Myotis myotis',\n     'sci_name': None,\n     'common_name': None,\n     'lineage': [],\n     'strain': None,\n     'pangolin_classification': None,\n     'infraspecific_names': {'breed': None,\n      'cultivar': None,\n      'ecotype': None,\n      'isolate': None,\n      'sex': None,\n      'strain': None}},\n    'comment': 'The greater mouse-eared bat (Myotis myotis) is a European species of bat in the family Vespertilionidae. The sample was collected by Emma Teeling and Sebastien Puechmaille from University College Dublin. This sample is being used to generate chromosomal level reference assembly as part of the Bat1K Project.'},\n   'owner': {'name': 'Max Planck Institute of Molecular Cell Biology and Genetics',\n    'contacts': [{'lab': None}]},\n   'models': ['Model organism or animal'],\n   'bioprojects': [{'accession': 'PRJNA628559',\n     'title': None,\n     'parent_accession': None,\n     'parent_accessions': []}],\n   'package': 'Model.organism.animal.1.0',\n   'attributes': [{'name': 'isolate', 'value': 'mMyoMyo1'},\n    {'name': 'dev_stage', 'value': 'adult'},\n    {'name': 'sex', 'value': 'female'},\n    {'name': 'tissue', 'value': 'flight muscle'},\n    {'name': 'biomaterial_provider',\n     'value': 'Emma Teeling, University College Dublin, School of Biology and Environmental Science, Science Centre - West Belfield Dublin 4'},\n    {'name': 'birth_date', 'value': 'unknown'},\n    {'name': 'collected_by', 'value': 'Emma Teeling, Sebastien Puechmaille'},\n    {'name': 'collection_date', 'value': '2015'},\n    {'name': 'geo_loc_name', 'value': 'France: Limerzel'},\n    {'name': 'lat_lon', 'value': '47.6333 N 2.3500 W'},\n    {'name': 'store_cond', 'value': 'SNAP frozen'}],\n   'status': {'status': 'live', 'when': '2020-04-27T02:18:04.803'}},\n  'blast_url': 'https://blast.ncbi.nlm.nih.gov/Blast.cgi?PAGE_TYPE=BlastSearch&PROG_DEF=blastn&BLAST_SPEC=GDH_GCA_014108235.1',\n  'submission_date': None,\n  'description': None,\n  'refseq_category': None,\n  'synonym': None,\n  'linked_assembly': None,\n  'linked_assemblies': [],\n  'atypical': {'is_atypical': None, 'warnings': []},\n  'genome_notes': [],\n  'comments': None,\n  'suppression_reason': None,\n  'diploid_role': None},\n 'assembly_stats': {'total_sequence_length': '2002780556',\n  'total_ungapped_length': '1973827151',\n  'number_of_contigs': 630,\n  'contig_n50': 12511134,\n  'contig_l50': 41,\n  'number_of_scaffolds': 92,\n  'scaffold_n50': 94448911,\n  'scaffold_l50': 7,\n  'number_of_component_sequences': 92,\n  'gc_count': '850908054',\n  'gc_percent': 43,\n  'genome_coverage': '90.9x',\n  'number_of_organelles': 1,\n  'total_number_of_chromosomes': None,\n  'gaps_between_scaffolds_count': None},\n 'organelle_info': [{'description': 'Mitochondrion',\n   'total_seq_length': '17320',\n   'submitter': 'Bat1K',\n   'assembly_name': None,\n   'infraspecific_name': None,\n   'bioproject': []}],\n 'annotation_info': {'name': 'Annotation submitted by Bat1K',\n  'provider': 'Bat1K',\n  'release_date': '2020-08-07',\n  'stats': {'gene_counts': {'total': 21284,\n    'protein_coding': 21284,\n    'non_coding': None,\n    'pseudogene': None,\n    'other': None}},\n  'report_url': None,\n  'busco': {'busco_lineage': None,\n   'busco_ver': None,\n   'complete': None,\n   'single_copy': None,\n   'duplicated': None,\n   'fragmented': None,\n   'missing': None,\n   'total_count': None},\n  'method': None,\n  'pipeline': None,\n  'software_version': None,\n  'status': None,\n  'release_version': None},\n 'wgs_info': {'wgs_project_accession': 'JABWUV01',\n  'master_wgs_url': 'https://www.ncbi.nlm.nih.gov/nuccore/JABWUV000000000.1',\n  'wgs_contigs_url': 'https://www.ncbi.nlm.nih.gov/Traces/wgs/JABWUV01'},\n 'type_material': {'type_label': None, 'type_display_text': None},\n 'checkm_info': {'checkm_marker_set': None,\n  'checkm_species_tax_id': None,\n  'checkm_marker_set_rank': None,\n  'checkm_version': None,\n  'completeness': None,\n  'contamination': None,\n  'completeness_percentile': None},\n 'average_nucleotide_identity': {'submitted_ani_match': {'assembly': None,\n   'organism_name': None,\n   'category': None,\n   'ani': None,\n   'assembly_coverage': None,\n   'type_assembly_coverage': None},\n  'best_ani_match': {'assembly': None,\n   'organism_name': None,\n   'category': None,\n   'ani': None,\n   'assembly_coverage': None,\n   'type_assembly_coverage': None},\n  'taxonomy_check_status': None,\n  'match_status': None,\n  'submitted_organism': None,\n  'submitted_species': None,\n  'category': None,\n  'comment': None},\n 'reports': [],\n 'content_type': None,\n 'total_count': None,\n 'next_page_token': None,\n 'messages': [],\n '_report_type': None,\n '_report_fields': [],\n '_first_page': None,\n '_report_format': None}"
     },
     "execution_count": 44,
     "metadata": {},
     "output_type": "execute_result"
    }
   ],
   "source": [
    "record_new"
   ],
   "metadata": {
    "collapsed": false,
    "ExecuteTime": {
     "end_time": "2024-01-05T17:27:50.228641Z",
     "start_time": "2024-01-05T17:27:50.224686Z"
    }
   },
   "id": "377856e4c4d58301"
  },
  {
   "cell_type": "code",
   "execution_count": null,
   "outputs": [],
   "source": [],
   "metadata": {
    "collapsed": false
   },
   "id": "74c9f8e817e7458c"
  }
 ],
 "metadata": {
  "kernelspec": {
   "display_name": "Python 3",
   "language": "python",
   "name": "python3"
  },
  "language_info": {
   "codemirror_mode": {
    "name": "ipython",
    "version": 2
   },
   "file_extension": ".py",
   "mimetype": "text/x-python",
   "name": "python",
   "nbconvert_exporter": "python",
   "pygments_lexer": "ipython2",
   "version": "2.7.6"
  }
 },
 "nbformat": 4,
 "nbformat_minor": 5
}
